{
 "cells": [
  {
   "cell_type": "markdown",
   "metadata": {},
   "source": [
    "# Análisis de sentimientos de Twitter.\n",
    "## Álgoritmo supervisados de clasificación."
   ]
  },
  {
   "cell_type": "markdown",
   "metadata": {},
   "source": [
    "### Autor: Francisco Correa.       "
   ]
  },
  {
   "cell_type": "markdown",
   "metadata": {},
   "source": [
    "---"
   ]
  },
  {
   "cell_type": "markdown",
   "metadata": {},
   "source": [
    "## <u>Preliminares</u>"
   ]
  },
  {
   "cell_type": "markdown",
   "metadata": {},
   "source": [
    "### Descripción del problema."
   ]
  },
  {
   "cell_type": "markdown",
   "metadata": {},
   "source": [
    "El objetivo de este reporte es poder clasificar si un tweet es positivo o negativo en relación al sentimiento asociado al texto. Esto quiere decir que sé dará solución a un problema de __clasificación__ utilizando machine learning.<br>\n",
    "El problema se abordará con 5 modelos de clasificación distintos para poder tener un mejor comparativo de qué modelo utilizar para abordar correctamente el problema. Los algoritmos que se utilizarán serán los siguientes:<br>\n",
    "\n",
    "* Random Forest.\n",
    "    - Parámetros:\n",
    "    <ol>\n",
    "    <li> max_features: 'auto', 'sqrt', 'log2'</li>\n",
    "    <li> max_depth: max_depth: np.linspace(10, 1200, 4) --> 10, 407, 803, 1200\n",
    "    </ol>\n",
    "<br>\n",
    "\n",
    "* Árboles de decisión.\n",
    "    - Parámetros:\n",
    "    <ol>\n",
    "    <li> max_features: 'auto', 'sqrt', 'log2'</li>\n",
    "    <li> max_depth: max_depth: np.linspace(10, 1200, 4) --> 10, 407, 803, 1200\n",
    "    <li> min_samples_split: 2, 5, 15</li>\n",
    "    </ol>\n",
    "    <br>\n",
    "\n",
    "* Naive Bayes.\n",
    "    - Parámetros:\n",
    "    <ol> \n",
    "    <li>alpha: 0.01, 0.1, 1</li>\n",
    "    <li>fit_prior: True, False</li>\n",
    "    <li>class_prior: None, 1, 5, 10</li>\n",
    "    </ol>\n",
    "<br>\n",
    "\n",
    "* AdaBoost.\n",
    "    - Parámetros:\n",
    "    <ol>\n",
    "    <li>learning-rate: 0.01, 0.1, 0.5, 1</li>\n",
    "    <li>n_estimators: 50, 100, 500</li>\n",
    "    </ol>\n",
    "<br>\n",
    "\n",
    "* GradientBoost.\n",
    "    - Parámetros:\n",
    "    <ol>\n",
    "    <li>learning-rate: 0.01, 0.1, 0.5, 1</li>\n",
    "    <li>n_estimators: 50, 100, 500</li>\n",
    "    </ol>\n",
    "\n",
    "Se espera poder contar con un modelo suficientemente balanceado para que sea capaz de predecir exitosamente si un tweet es positivo o negativo a través de nuevos datos que no sean parte del conjunto de test."
   ]
  },
  {
   "cell_type": "markdown",
   "metadata": {},
   "source": [
    "### Caracteristicas de la base de datos."
   ]
  },
  {
   "cell_type": "markdown",
   "metadata": {},
   "source": [
    "La base de datos con la que vamos a trabajar se llama __Text Emotion__ con 40.000 filas y 4 columnas. Los atributos de esta base son:\n",
    "* **tweet id:** Es el identificador del tweet.\n",
    "* **sentiment:** Es el sentimiento que se rescata del tweet.\n",
    "* **author:** Es el autor que publicó el tweet,\n",
    "* **content:** Es el contenido que escribió el autor.\n",
    "\n",
    "El vector objetivo de esta base es \"sentiment\", donde puede ser positivo, como fun y love y negativo, como sadness y hate. Hay también sentimientos neutros. Los sentimientos son empty, sadness, enthusiasm, neutral, worry, surprise, love, fun, hate, happiness, boredom, relief y anger"
   ]
  },
  {
   "cell_type": "markdown",
   "metadata": {},
   "source": [
    "### Solución al problema."
   ]
  },
  {
   "cell_type": "markdown",
   "metadata": {},
   "source": [
    "Para darle solución a este problema, debemos seguir los siguientes pasos:\n",
    "#### Limpieza de datos.\n",
    "* Eliminar las filas que contengan valores NaN.\n",
    "* El vector objetivo, en este caso, sentiment, será expresado en binario: 1 para los sentimientos positivos y 0 para los negativos.\n",
    "* Los sentimientos neutros convertirlos a positivos o negativos de manera aleatoria.\n",
    "\n",
    "#### Análisis exploratorio de los datos.\n",
    "* Gráficamos y analizamos los datos para saber si hay algún patrón en común.\n",
    "* Analizar los gráficos y tablas estadísticas. Ver las principales características de los tweets positivos y negativos.\n",
    "\n",
    "#### Feature Engineering\n",
    "* Se eliminan las palabras que no sirven para la predicción, como páginas web, usuarios y otras que no aportan al modelo.\n",
    "* Se eliminan las palabras únicas.\n",
    "* Se aplica un autocorrector a todas las palabras para que no existan más de dos palabras con la misma semántica.\n",
    "\n",
    "#### Modelación\n",
    "* Para el preprocesamiento, se dividirá la base en conjunto de entrenamiento y test con train_test_split de sklearn. El tamaño del conjunto de test será de 0.33 y el de train será de 0.66.\n",
    "* Crearemos 5 modelos de clasificación para determinar cuál tiene mejor poder de predicción. En la primera parte se utilizarán modelos vainilla (parámetros por defecto) y luego se aplicará una búsqueda para encontrar los mejores hiperparámetros de cada uno utilizando GridSearchCV.\n",
    "* Medir la eficiencia del modelo con un reporte de clasificación.\n",
    "* Conclusiones finales.\n",
    "<br><br>\n",
    "\n",
    "Los mejores modelos serán aquellos que superen el siguiente benchmark:\n",
    "* Accuracy: 0.63\n",
    "* Precision (clase 1): 0.72"
   ]
  },
  {
   "cell_type": "markdown",
   "metadata": {},
   "source": [
    "## <u>Aspectos computacionales</u>"
   ]
  },
  {
   "cell_type": "markdown",
   "metadata": {},
   "source": [
    "* Python versión 3.7.6\n",
    "* Anaconda versión 2020.02\n",
    "* Conda versión 4.8.3\n",
    "* Librerías:\n",
    "<ul>\n",
    "    <li>pandas 1.0.1</li>    \n",
    "    <li>numpy 1.18.1</li>\n",
    "    <li>seaborn 0.10.0</li>\n",
    "    <li>matplotlib 3.1.3</li>\n",
    "    <li>scikit-learn 0.22.1</li>\n",
    "    <li>nltk versión 3.4.5</li>\n",
    "    <li>joblib versión 0.14.1</li>\n",
    "</ul>"
   ]
  },
  {
   "cell_type": "markdown",
   "metadata": {},
   "source": [
    "Descripción de las librerías clásicas a utilizar:<br><br>\n",
    "**Pandas**:<br> Facilita la lectura de datasets o conjunto de datos (dataframe), estadísticas básicas y operaciones básicas como subconjuntos de dataframe, concadenar dos datasets, poblamiento de datos, entre otros (https://pandas.pydata.org/)\n",
    "\t\t\n",
    "**Numpy**:<br> Equivalente de MatLab en entorno de Python. Sirve para trabajar con matrices (imágenes, sonidos y videos, se pueden mapear a matrices). También sirve para hacer simulaciones creando data aleatoria. Ve todo lo que es cálculo lineal (https://numpy.org/)\n",
    "\n",
    "**Matplotlib**:<br> Se utiliza para realizar representaciones gráficas en 2D y 3D y modificarlas a voluntad. (https://matplotlib.org/)\n",
    "\t\t\n",
    "**Seaborn**:<br> Se utiliza para realizar gráficos complejos con pocas líneas de código. Esta hecho en base a matplotlib. (https://seaborn.pydata.org/)\n",
    "\t\t\n",
    "**Scikit-learn**:<br> Se usa para hacer análisis predictivos o modelos predictivos. Tiene una gran colección de algoritmos del mundo de la ciencia de datos. Esta basado en base a pandas, numpy y matplotlib. Se involucran técnicas estadísticas como regresión lineal, regresión logística, clustering y algoritmos de clasificación. Nos da métodos muy concisos para predecir el valor de salida y formas para medir la eficiencia de esas salidas. Especificamente la utilizaremos para modelar con Naive Bayes. (https://scikit-learn.org/stable/).\n",
    "\n",
    "**NLTK**:<br> Es utilizado para procesar lenguaje natural. Se utiliza para segmentación de tópicos, tokenización, análisis de sentimiento, categorización de palabras (adjetivo, verbo, sustantivo), entre otras funciones. (https://www.nltk.org/)\n",
    "\n",
    "**Word_processor** <br> Librería que cree para poder preprocesar las palabras en twitter eliminando el ruido como la puntuación, palabras en mayúscula, direcciones web, usuarios, entre otros. Dentro de esta librería se utilizará otra librería para correguir las palabras con errores ortográficos llamada **spell.py**. Pueden encontrar más infomación de esta librería en el siguiente link: https://norvig.com/spell-correct.html\n",
    "\n",
    "**Re** <br> Librería de expresiones regulares utilizada para encontrar patrones en una cadena de texto. (https://docs.python.org/2/library/re.html).\n",
    "\n",
    "**Collection** <br>\n",
    "Librería que nos ayuda a trabajar con colecciones o estructuras de datos, como listas, tuplas y diccionarios. Tienen funciones incorporadas que facilitan el flujo de programación. (https://docs.python.org/2/library/collections.html)\n",
    "\n",
    "**Joblib** <br>\n",
    "Librería que sirve para serializar variables de cualquier tipo para que podamos acceder a ellas con tan solo importarlas. Es muy util cuando tengamos que acceder a modelos desde otros trabajos o para no tener que volver a ejecutar un modelo. (https://joblib.readthedocs.io/en/latest/)"
   ]
  },
  {
   "cell_type": "markdown",
   "metadata": {},
   "source": [
    "## <u>Análisis Exploratorio</u>"
   ]
  },
  {
   "cell_type": "markdown",
   "metadata": {},
   "source": [
    "En esta sección realizaremos lo siguiente:\n",
    "* Importar las librerías necesarias para este análisis.\n",
    "* Limpieza de datos.\n",
    "* Modificar la variable objetivo para que quede con dos valores: cero y uno.\n",
    "* Graficar"
   ]
  },
  {
   "cell_type": "markdown",
   "metadata": {},
   "source": [
    "### I. Importe de librerías"
   ]
  },
  {
   "cell_type": "markdown",
   "metadata": {},
   "source": [
    "Primero, importamos las librerías necesarias para realizar todo el análisis necesario para resolver este problema de clasificación."
   ]
  },
  {
   "cell_type": "code",
   "execution_count": 1,
   "metadata": {},
   "outputs": [],
   "source": [
    "import pandas as pd\n",
    "import numpy as np\n",
    "import matplotlib.pyplot as plt\n",
    "import seaborn as sns\n",
    "from sklearn.preprocessing import LabelEncoder\n",
    "from sklearn.model_selection import train_test_split, GridSearchCV\n",
    "from sklearn.pipeline import Pipeline\n",
    "from sklearn.feature_extraction.text import CountVectorizer\n",
    "from sklearn.metrics import classification_report\n",
    "from sklearn.ensemble import RandomForestClassifier, GradientBoostingClassifier, AdaBoostClassifier\n",
    "from sklearn.tree import DecisionTreeClassifier\n",
    "from sklearn.naive_bayes import BernoulliNB\n",
    "import warnings\n",
    "warnings.filterwarnings(\"ignore\")\n",
    "import word_processor as wp\n",
    "from collections import Counter"
   ]
  },
  {
   "cell_type": "code",
   "execution_count": 2,
   "metadata": {},
   "outputs": [],
   "source": [
    "df = pd.read_csv(\"text_emotion.csv\")"
   ]
  },
  {
   "cell_type": "code",
   "execution_count": 3,
   "metadata": {},
   "outputs": [
    {
     "data": {
      "text/html": [
       "<div>\n",
       "<style scoped>\n",
       "    .dataframe tbody tr th:only-of-type {\n",
       "        vertical-align: middle;\n",
       "    }\n",
       "\n",
       "    .dataframe tbody tr th {\n",
       "        vertical-align: top;\n",
       "    }\n",
       "\n",
       "    .dataframe thead th {\n",
       "        text-align: right;\n",
       "    }\n",
       "</style>\n",
       "<table border=\"1\" class=\"dataframe\">\n",
       "  <thead>\n",
       "    <tr style=\"text-align: right;\">\n",
       "      <th></th>\n",
       "      <th>tweet_id</th>\n",
       "      <th>sentiment</th>\n",
       "      <th>author</th>\n",
       "      <th>content</th>\n",
       "    </tr>\n",
       "  </thead>\n",
       "  <tbody>\n",
       "    <tr>\n",
       "      <th>0</th>\n",
       "      <td>1956967341</td>\n",
       "      <td>empty</td>\n",
       "      <td>xoshayzers</td>\n",
       "      <td>@tiffanylue i know  i was listenin to bad habi...</td>\n",
       "    </tr>\n",
       "    <tr>\n",
       "      <th>1</th>\n",
       "      <td>1956967666</td>\n",
       "      <td>sadness</td>\n",
       "      <td>wannamama</td>\n",
       "      <td>Layin n bed with a headache  ughhhh...waitin o...</td>\n",
       "    </tr>\n",
       "    <tr>\n",
       "      <th>2</th>\n",
       "      <td>1956967696</td>\n",
       "      <td>sadness</td>\n",
       "      <td>coolfunky</td>\n",
       "      <td>Funeral ceremony...gloomy friday...</td>\n",
       "    </tr>\n",
       "    <tr>\n",
       "      <th>3</th>\n",
       "      <td>1956967789</td>\n",
       "      <td>enthusiasm</td>\n",
       "      <td>czareaquino</td>\n",
       "      <td>wants to hang out with friends SOON!</td>\n",
       "    </tr>\n",
       "    <tr>\n",
       "      <th>4</th>\n",
       "      <td>1956968416</td>\n",
       "      <td>neutral</td>\n",
       "      <td>xkilljoyx</td>\n",
       "      <td>@dannycastillo We want to trade with someone w...</td>\n",
       "    </tr>\n",
       "  </tbody>\n",
       "</table>\n",
       "</div>"
      ],
      "text/plain": [
       "     tweet_id   sentiment       author  \\\n",
       "0  1956967341       empty   xoshayzers   \n",
       "1  1956967666     sadness    wannamama   \n",
       "2  1956967696     sadness    coolfunky   \n",
       "3  1956967789  enthusiasm  czareaquino   \n",
       "4  1956968416     neutral    xkilljoyx   \n",
       "\n",
       "                                             content  \n",
       "0  @tiffanylue i know  i was listenin to bad habi...  \n",
       "1  Layin n bed with a headache  ughhhh...waitin o...  \n",
       "2                Funeral ceremony...gloomy friday...  \n",
       "3               wants to hang out with friends SOON!  \n",
       "4  @dannycastillo We want to trade with someone w...  "
      ]
     },
     "execution_count": 3,
     "metadata": {},
     "output_type": "execute_result"
    }
   ],
   "source": [
    "df.head()"
   ]
  },
  {
   "cell_type": "markdown",
   "metadata": {},
   "source": [
    "### II. Limpieza de datos"
   ]
  },
  {
   "cell_type": "markdown",
   "metadata": {},
   "source": [
    "Para el análisis exploratorio, primero veremos si nuestro dataset contiene datos pérdidos para quitarlos o reemplazarlos por otro valor según sea el caso."
   ]
  },
  {
   "cell_type": "code",
   "execution_count": 4,
   "metadata": {},
   "outputs": [
    {
     "data": {
      "text/plain": [
       "tweet_id     0\n",
       "sentiment    0\n",
       "author       0\n",
       "content      0\n",
       "dtype: int64"
      ]
     },
     "execution_count": 4,
     "metadata": {},
     "output_type": "execute_result"
    }
   ],
   "source": [
    "df.isna().sum()"
   ]
  },
  {
   "cell_type": "markdown",
   "metadata": {},
   "source": [
    "Como no hay casos NA, trabajaremos con la base tal como está y solo modificaremos la variable objetivo a continuación."
   ]
  },
  {
   "cell_type": "markdown",
   "metadata": {},
   "source": [
    "### III. Variable objetivo."
   ]
  },
  {
   "cell_type": "markdown",
   "metadata": {},
   "source": [
    "En este apartado realizaremos una estrategia para poder cambiar la variable \"neutro\" dentro de nuestro vector objetivo y que sea parte de los atributos positivos o negativos en un tweet."
   ]
  },
  {
   "cell_type": "markdown",
   "metadata": {},
   "source": [
    "Este es el gráfico de la variable objetivo por el momento."
   ]
  },
  {
   "cell_type": "code",
   "execution_count": 5,
   "metadata": {},
   "outputs": [
    {
     "data": {
      "text/plain": [
       "Text(0, 0.5, 'Frequency')"
      ]
     },
     "execution_count": 5,
     "metadata": {},
     "output_type": "execute_result"
    },
    {
     "data": {
      "image/png": "[encoded data removed]",
      "text/plain": [
       "<Figure size 1008x360 with 1 Axes>"
      ]
     },
     "metadata": {
      "needs_background": "light"
     },
     "output_type": "display_data"
    }
   ],
   "source": [
    "plt.figure(figsize=(14, 5))\n",
    "freq = df[\"sentiment\"].value_counts()\n",
    "plt.rc('axes', labelsize=10)\n",
    "plt.rc('xtick', labelsize=10)\n",
    "sns.barplot(x=freq.index, y=freq)\n",
    "plt.xlabel(\"Sentiment\")\n",
    "plt.ylabel(\"Frequency\")"
   ]
  },
  {
   "cell_type": "markdown",
   "metadata": {},
   "source": [
    "Dejamos los tweets como sentimientos positivos y negativos según corresponda. El objetivo es dejar todos los tweets como una distribución binaria (unos y ceros). Por el momento la distribución se ve así:"
   ]
  },
  {
   "cell_type": "code",
   "execution_count": 6,
   "metadata": {
    "hide_input": false
   },
   "outputs": [
    {
     "data": {
      "text/plain": [
       "neutral       8638\n",
       "worry         8459\n",
       "happiness     5209\n",
       "sadness       5165\n",
       "love          3842\n",
       "surprise      2187\n",
       "fun           1776\n",
       "relief        1526\n",
       "hate          1323\n",
       "empty          827\n",
       "enthusiasm     759\n",
       "boredom        179\n",
       "anger          110\n",
       "Name: sentiment, dtype: int64"
      ]
     },
     "execution_count": 6,
     "metadata": {},
     "output_type": "execute_result"
    }
   ],
   "source": [
    "df[\"sentiment\"].value_counts()"
   ]
  },
  {
   "cell_type": "markdown",
   "metadata": {},
   "source": [
    "Vemos que tenemos varios sentimientos, siendo neutral el principal. Para tener una idea de cuántos sentimientos tenemos como buenos y malos vamos a transformar los datos del vector objetivo. Los sentimientos que son neutrales los vamos a cambiar de manera aleatoria entre unos y ceros utilizando una distribución de Bernoulli."
   ]
  },
  {
   "cell_type": "code",
   "execution_count": 7,
   "metadata": {},
   "outputs": [],
   "source": [
    "sentiment = {\n",
    "    \"happiness\": 1,\n",
    "    \"love\": 1,\n",
    "    \"surprise\": 1,\n",
    "    \"fun\": 1,\n",
    "    \"relief\": 1,\n",
    "    \"enthusiasm\": 1,\n",
    "    \"worry\": 0,\n",
    "    \"sadness\": 0,\n",
    "    \"hate\": 0,\n",
    "    \"empty\": 0,\n",
    "    \"boredom\": 0,\n",
    "    \"anger\": 0\n",
    "}\n",
    "\n",
    "df = df.replace({\"sentiment\":sentiment})"
   ]
  },
  {
   "cell_type": "markdown",
   "metadata": {},
   "source": [
    "A continuación cambiamos los tweets de manera aleatoria siguiendo una distribución de Bernoulli."
   ]
  },
  {
   "cell_type": "code",
   "execution_count": 8,
   "metadata": {},
   "outputs": [],
   "source": [
    "# Reemplazamos los neutros de manera aleatoria.\n",
    "\n",
    "for n, i in enumerate(df[\"sentiment\"]):\n",
    "    if i == \"neutral\":\n",
    "        df.loc[n, \"sentiment\"] = np.random.binomial(size=1, n=1, p= 0.5)[0]"
   ]
  },
  {
   "cell_type": "markdown",
   "metadata": {},
   "source": [
    "Volvemos a graficar para saber como se distribuyen los tweets positivos y negativos."
   ]
  },
  {
   "cell_type": "code",
   "execution_count": 9,
   "metadata": {},
   "outputs": [
    {
     "data": {
      "text/plain": [
       "Text(0, 0.5, 'Frequency')"
      ]
     },
     "execution_count": 9,
     "metadata": {},
     "output_type": "execute_result"
    },
    {
     "data": {
      "image/png": "[encoded data removed]",
      "text/plain": [
       "<Figure size 288x288 with 1 Axes>"
      ]
     },
     "metadata": {
      "needs_background": "light"
     },
     "output_type": "display_data"
    }
   ],
   "source": [
    "plt.figure(figsize=(4, 4))\n",
    "freq = df[\"sentiment\"].value_counts()\n",
    "plt.rc('axes', labelsize=10)\n",
    "plt.rc('xtick', labelsize=10)\n",
    "sns.barplot(x=freq.index, y=freq)\n",
    "plt.xlabel(\"Sentiment\")\n",
    "plt.ylabel(\"Frequency\")"
   ]
  },
  {
   "cell_type": "markdown",
   "metadata": {},
   "source": [
    "Vemos que la distribución entre ambas categorías en bien balanceada, lo que no no dará problemas de sesgo a la hora de realizar el modelo."
   ]
  },
  {
   "cell_type": "markdown",
   "metadata": {},
   "source": [
    "Ahora que ya hemos indagado en el vector objetivo, indagemos en el vector independiente: el contenido o tweets de los usuarios, según frecuencia de palabras utilizadas."
   ]
  },
  {
   "cell_type": "code",
   "execution_count": 10,
   "metadata": {},
   "outputs": [],
   "source": [
    "tweets = ' '.join(df[\"content\"].to_list()).split()\n",
    "counts = Counter(tweets).most_common()"
   ]
  },
  {
   "cell_type": "code",
   "execution_count": 11,
   "metadata": {},
   "outputs": [
    {
     "data": {
      "text/plain": [
       "<matplotlib.axes._subplots.AxesSubplot at 0x1518dcf6388>"
      ]
     },
     "execution_count": 11,
     "metadata": {},
     "output_type": "execute_result"
    },
    {
     "data": {
      "image/png": "[encoded data removed]",
      "text/plain": [
       "<Figure size 432x288 with 1 Axes>"
      ]
     },
     "metadata": {
      "needs_background": "light"
     },
     "output_type": "display_data"
    }
   ],
   "source": [
    "freq = [x[1] for x in counts]\n",
    "sns.distplot(freq, bins=20)"
   ]
  },
  {
   "cell_type": "markdown",
   "metadata": {},
   "source": [
    "Vemos que los datos están demasiado sesgados, es decir, hay muchísimas palabras que se repiten una o dos veces. Esto lo podemos comprobar con un análisis numérico."
   ]
  },
  {
   "cell_type": "code",
   "execution_count": 12,
   "metadata": {},
   "outputs": [
    {
     "name": "stdout",
     "output_type": "stream",
     "text": [
      "0.7434961643276469\n"
     ]
    }
   ],
   "source": [
    "count = 0\n",
    "for k, v in counts:\n",
    "    if v == 1:\n",
    "        count += 1\n",
    "print(count / len(counts))"
   ]
  },
  {
   "cell_type": "markdown",
   "metadata": {},
   "source": [
    "El **74,3%** de las palabras solo aparece una sola vez en todos los tweets, lo que puede significar lo siguiente:\n",
    "* Hay muchas palabras mal escritas.\n",
    "* En muchos casos hay URL, hashtag o usuarios.\n",
    "* Hay muchos simbolos o números junto con las palabras\n",
    "\n",
    "Esto lo tenemos que combatir eliminando esas palabras que hacen que el sesgo de los tweets sea tan alto. "
   ]
  },
  {
   "cell_type": "markdown",
   "metadata": {},
   "source": [
    "Ahora haremos el siguiente análisis exploratorio: Vamos a seleccionar las palabras que más se repiten (las que podrían tener más incidencia al momento de predecir si un tweet es positivo o negativo) y veremos que tan positivas o negativas son. Esto lo haremos a través de los siguientes pasos:\n",
    "* Seleccionamos a través de un index las palabras más frecuentes.\n",
    "* Buscamos en los indices en donde estas palabras se encuentran\n",
    "* Con value_counts veremos la frecuencia relativa con respecto a los tweets positivos.\n",
    "* Agregamos ese dato en una lista y graficamos."
   ]
  },
  {
   "cell_type": "code",
   "execution_count": 13,
   "metadata": {},
   "outputs": [],
   "source": [
    "most_freq_words = [x[0] for x in counts][:50]\n",
    "words_sentiments = []\n",
    "for word in most_freq_words:\n",
    "    a = df.index[df['content'].str.contains(word)]\n",
    "    ws = df.loc[a, \"sentiment\"]\n",
    "    positive = ws.value_counts(\"%\").get(1)\n",
    "    words_sentiments.append(positive)"
   ]
  },
  {
   "cell_type": "code",
   "execution_count": 14,
   "metadata": {},
   "outputs": [
    {
     "data": {
      "text/plain": [
       "<matplotlib.axes._subplots.AxesSubplot at 0x1518dcf3548>"
      ]
     },
     "execution_count": 14,
     "metadata": {},
     "output_type": "execute_result"
    },
    {
     "data": {
      "image/png": "[encoded data removed]",
      "text/plain": [
       "<Figure size 720x360 with 1 Axes>"
      ]
     },
     "metadata": {
      "needs_background": "light"
     },
     "output_type": "display_data"
    }
   ],
   "source": [
    "plt.figure(figsize=(10, 5))\n",
    "plt.xticks(rotation=90)\n",
    "plt.xlabel(\"Las 50 palabras más frecuentes\", fontsize=12)\n",
    "plt.ylabel(\"% de positivos\", fontsize=12)\n",
    "plt.axhline(0.5, color = \"tomato\", lw = 1, linestyle=\"--\")\n",
    "plt.grid(axis=\"x\")\n",
    "sns.lineplot(most_freq_words, words_sentiments)"
   ]
  },
  {
   "cell_type": "markdown",
   "metadata": {},
   "source": [
    "Como podemos ver en el gráfico anterior, hay palabras claves que nos ayudarán a determinar si un tweet es positivo o negativo. Las palabras que más afectan para esta decisión son:\n",
    "* love (positivo)\n",
    "* good (positivo)\n",
    "* work (negativo)\n",
    "* not (negativo"
   ]
  },
  {
   "cell_type": "markdown",
   "metadata": {},
   "source": [
    "## <u>Feature engineering.</u>"
   ]
  },
  {
   "cell_type": "markdown",
   "metadata": {},
   "source": [
    "En esta sección realizamos todos las transformaciones que nuestra base necesita para poder implementar un modelo apropiado. <br>\n",
    "Realizaremos los siguientes puntos o transformaciones:\n",
    "* Eliminamos las columnas que no necesitamos.\n",
    "* Eliminación de ruido en los tweets, como usuarios, páginas web, entre otros.\n",
    "* Transformación de palabras y correcciones.\n",
    "* Realizar un countvectorizer para incluirlo en los modelos."
   ]
  },
  {
   "cell_type": "markdown",
   "metadata": {},
   "source": [
    "### I. Eliminación de columnas innecesarias.\n",
    "\n",
    "A continuación eliminamos las columnas innecesarias para este modelo. En este caso eliminamos el autor del tweet y su ID que a decir verdad no aporta en nada a la predicción de si un tweet es positivo o negativo"
   ]
  },
  {
   "cell_type": "code",
   "execution_count": 15,
   "metadata": {},
   "outputs": [],
   "source": [
    "df = df.drop(\"author\", axis=1)\n",
    "df = df.drop(\"tweet_id\", axis=1)"
   ]
  },
  {
   "cell_type": "markdown",
   "metadata": {},
   "source": [
    "### II. Eliminación del ruido."
   ]
  },
  {
   "cell_type": "markdown",
   "metadata": {},
   "source": [
    "A continuación vamos a eliminar las palabras o carácteres que hacen ruido. Esto lo efectuaremos en un orden determinado para no quedarnos con palabras o letras que no corresponden. Por ejemplo, si eliminamos primero los símbolos como \\\"@\\\" antes de la eliminación de los usuarios, nos quedariamos con todos los usuarios sin el signo \\\"@\\\". Por eso el orden de los procesos es extremandamente importante y es el siguiente:\n",
    "    <ol>        \n",
    "        <li> Se remueven los usuarios, los hashtags y otras palabras que se anteponen con el símbolo &, como &amp o &quote</li>\n",
    "        <li> Convertimos todas las letras a minúsculas </li>\n",
    "        <li> Se remueven todas las direcciones web.</li>\n",
    "        <li> Se remueven todos los símbolos, tales como ?\\\\^, etc.</li>\n",
    "        <li> Se remueven los números que están fuera de las palabras y no dentro. Esto se hace para no eliminar los acrónimos  como por ejemplo J4F (just for fun), porque tienen una semántica.</li>\n",
    "        <li> Se eliminan las palabras menores que tres letras que en general serían conectores o palabras sin importancia.</li>\n",
    "        <li> Se eliminan las vocales excesivas en las palabras, como loooove y duuuude a un mínimo de dos vocales. Esto para que palabras como sweet no quede en swet. Luego con el autocorrector que implementaré más adelante corregirá esas palabras a su manera correcta. Esto lo haremos de esta forma, porque por ejemplo looooove en el autocorrector no arroja ningún resultado, pero con loove el autocorrector lo corrigue correctamente a love.</li>\n",
    "        <li> Se aplica autocorrector en todas las palabras. </li>\n",
    "        <li> Se remueven las palabras que solo se repiten una vez entre todos los tweets</li>\n",
    "    </ol>"
   ]
  },
  {
   "cell_type": "markdown",
   "metadata": {},
   "source": [
    "En las siguientes celdas utilizaremos una librería creada por nosotros llamada word_processor con el objetivo de limpiar el ruido de la base."
   ]
  },
  {
   "cell_type": "code",
   "execution_count": 16,
   "metadata": {},
   "outputs": [
    {
     "name": "stdout",
     "output_type": "stream",
     "text": [
      "Wall time: 22.4 s\n"
     ]
    }
   ],
   "source": [
    "%%time\n",
    "\n",
    "for n, i in enumerate(df[\"content\"]):\n",
    "    r1 = wp.replace_users(i)\n",
    "    r2 = wp.remove_url(r1)\n",
    "    r3 = wp.remove_symbols(r2)\n",
    "    r4 = wp.remove_numers_out(r3)\n",
    "    r5 = wp.remove_short_words(r4)\n",
    "    df.loc[n, \"content\"] = r5"
   ]
  },
  {
   "cell_type": "markdown",
   "metadata": {},
   "source": [
    "Borramos el uso de vocales excesivas."
   ]
  },
  {
   "cell_type": "code",
   "execution_count": 17,
   "metadata": {},
   "outputs": [],
   "source": [
    "for n, i in enumerate(df[\"content\"]):\n",
    "    replaced = wp.remove_extra_vowels(i)\n",
    "    df.loc[n, \"content\"] = replaced"
   ]
  },
  {
   "cell_type": "markdown",
   "metadata": {},
   "source": [
    "Se aplica un autocorrector. Este proceso toma una hora y cuarto en mi computador."
   ]
  },
  {
   "cell_type": "code",
   "execution_count": 18,
   "metadata": {},
   "outputs": [
    {
     "name": "stdout",
     "output_type": "stream",
     "text": [
      "Wall time: 1h 24min 3s\n"
     ]
    }
   ],
   "source": [
    "%%time\n",
    "for n, i in enumerate(df[\"content\"]):\n",
    "    replaced = wp.autocorrect_words(i)\n",
    "    df.loc[n, \"content\"] = replaced"
   ]
  },
  {
   "cell_type": "markdown",
   "metadata": {},
   "source": [
    "Por último, eliminamos las palabras únicas a lo largo de todos los tweets."
   ]
  },
  {
   "cell_type": "code",
   "execution_count": 19,
   "metadata": {},
   "outputs": [],
   "source": [
    "# Eliminamos las palabras que no se repiten en todos los tweets\n",
    "# Son en su mayoria palabras inexistentes o con errores ortograficos, expresiones, etc.\n",
    "import re\n",
    "\n",
    "delete = '|'.join([k for k,v in counts if v == 1])\n",
    "delete = re.sub(r'[()]', \" \", delete)"
   ]
  },
  {
   "cell_type": "code",
   "execution_count": 20,
   "metadata": {},
   "outputs": [
    {
     "name": "stdout",
     "output_type": "stream",
     "text": [
      "Wall time: 1min 22s\n"
     ]
    }
   ],
   "source": [
    "%%time\n",
    "for n, i in enumerate(df[\"content\"]):\n",
    "    try:\n",
    "        r = wp.delete_unique_words(i, delete)\n",
    "    except:\n",
    "        continue\n",
    "    df.loc[n, \"content\"] = r1"
   ]
  },
  {
   "cell_type": "markdown",
   "metadata": {},
   "source": [
    "Aquí tenemos las palabras más repetidas en primera instancia, sin convertirlas a matriz con CountVectorizer todavía."
   ]
  },
  {
   "cell_type": "code",
   "execution_count": 21,
   "metadata": {},
   "outputs": [
    {
     "data": {
      "text/plain": [
       "[('the', 13361),\n",
       " ('you', 7800),\n",
       " ('and', 7450),\n",
       " ('for', 5361),\n",
       " ('that', 4527),\n",
       " ('have', 3843),\n",
       " ('but', 3473),\n",
       " ('just', 3234),\n",
       " ('day', 3221),\n",
       " ('with', 2993),\n",
       " ('not', 2808),\n",
       " ('was', 2772),\n",
       " ('can', 2689),\n",
       " ('all', 2421),\n",
       " ('good', 2356),\n",
       " ('this', 2289),\n",
       " ('now', 2215),\n",
       " ('out', 2182),\n",
       " ('like', 2065),\n",
       " ('get', 2031),\n",
       " ('are', 1974),\n",
       " ('too', 1935),\n",
       " ('your', 1712),\n",
       " ('love', 1687),\n",
       " ('going', 1662),\n",
       " ('today', 1656),\n",
       " ('got', 1647),\n",
       " ('work', 1638),\n",
       " ('what', 1544),\n",
       " ('from', 1525),\n",
       " ('happy', 1504),\n",
       " ('back', 1417),\n",
       " ('one', 1409),\n",
       " ('time', 1394),\n",
       " ('know', 1368),\n",
       " ('lol', 1355),\n",
       " ('there', 1321),\n",
       " ('will', 1310),\n",
       " ('really', 1301),\n",
       " ('don', 1259),\n",
       " ('about', 1257),\n",
       " ('had', 1244),\n",
       " ('see', 1235),\n",
       " ('its', 1194),\n",
       " ('well', 1188),\n",
       " ('night', 1157),\n",
       " ('some', 1144),\n",
       " ('they', 1129),\n",
       " ('may', 1126),\n",
       " ('how', 1124),\n",
       " ('new', 1121),\n",
       " ('home', 1086),\n",
       " ('here', 1068),\n",
       " ('want', 1063),\n",
       " ('think', 1060),\n",
       " ('when', 1052),\n",
       " ('thanks', 1016),\n",
       " ('off', 1013),\n",
       " ('much', 990),\n",
       " ('still', 981),\n",
       " ('more', 975),\n",
       " ('miss', 916),\n",
       " ('hope', 896),\n",
       " ('morning', 895),\n",
       " ('year', 881),\n",
       " ('great', 881),\n",
       " ('last', 875),\n",
       " ('need', 869),\n",
       " ('been', 857),\n",
       " ('her', 842),\n",
       " ('she', 842),\n",
       " ('did', 839),\n",
       " ('has', 815),\n",
       " ('twitter', 809),\n",
       " ('hata', 798),\n",
       " ('feel', 790),\n",
       " ('then', 773),\n",
       " ('fun', 770),\n",
       " ('tomorrow', 755),\n",
       " ('only', 739),\n",
       " ('would', 736),\n",
       " ('again', 733),\n",
       " ('why', 726),\n",
       " ('sad', 719),\n",
       " ('wish', 716),\n",
       " ('yes', 700),\n",
       " ('tonight', 698),\n",
       " ('sorry', 694),\n",
       " ('bad', 692),\n",
       " ('didn', 688),\n",
       " ('him', 682),\n",
       " ('right', 672),\n",
       " ('very', 664),\n",
       " ('mother', 656),\n",
       " ('make', 646),\n",
       " ('them', 645),\n",
       " ('nice', 641),\n",
       " ('getting', 621),\n",
       " ('come', 620),\n",
       " ('though', 613),\n",
       " ('better', 612),\n",
       " ('should', 609),\n",
       " ('week', 609),\n",
       " ('sleep', 605),\n",
       " ('donna', 605),\n",
       " ('way', 596),\n",
       " ('could', 595),\n",
       " ('over', 587),\n",
       " ('who', 578),\n",
       " ('mothers', 569),\n",
       " ('weakened', 560),\n",
       " ('people', 532),\n",
       " ('bed', 514),\n",
       " ('watching', 513),\n",
       " ('next', 512),\n",
       " ('mon', 512),\n",
       " ('his', 509),\n",
       " ('days', 509),\n",
       " ('were', 505),\n",
       " ('long', 505),\n",
       " ('so', 504),\n",
       " ('school', 486),\n",
       " ('dont', 482),\n",
       " ('say', 481),\n",
       " ('hey', 480),\n",
       " ('sweet', 479),\n",
       " ('wait', 477),\n",
       " ('after', 477),\n",
       " ('shone', 477),\n",
       " ('even', 474),\n",
       " ('awesome', 469),\n",
       " ('hate', 468),\n",
       " ('down', 461),\n",
       " ('move', 456),\n",
       " ('best', 455),\n",
       " ('having', 453),\n",
       " ('never', 450),\n",
       " ('working', 449),\n",
       " ('being', 448),\n",
       " ('little', 448),\n",
       " ('www', 444),\n",
       " ('soon', 440),\n",
       " ('take', 438),\n",
       " ('than', 437),\n",
       " ('cut', 437),\n",
       " ('thank', 434),\n",
       " ('thing', 431),\n",
       " ('anna', 426),\n",
       " ('show', 426),\n",
       " ('man', 416),\n",
       " ('please', 411),\n",
       " ('feeling', 409),\n",
       " ('any', 408),\n",
       " ('look', 400),\n",
       " ('where', 400),\n",
       " ('everyone', 399),\n",
       " ('done', 398),\n",
       " ('sure', 397),\n",
       " ('sick', 390),\n",
       " ('guns', 389),\n",
       " ('made', 387),\n",
       " ('life', 386),\n",
       " ('always', 383),\n",
       " ('doing', 383),\n",
       " ('our', 382),\n",
       " ('first', 381),\n",
       " ('tired', 375),\n",
       " ('cool', 371),\n",
       " ('something', 368),\n",
       " ('into', 368),\n",
       " ('old', 366),\n",
       " ('won', 365),\n",
       " ('because', 364),\n",
       " ('let', 364),\n",
       " ('friends', 363),\n",
       " ('already', 361),\n",
       " ('find', 360),\n",
       " ('watch', 359),\n",
       " ('hot', 359),\n",
       " ('another', 356),\n",
       " ('trying', 355),\n",
       " ('looking', 354),\n",
       " ('anyone', 352),\n",
       " ('doesn', 351),\n",
       " ('such', 350),\n",
       " ('hours', 346),\n",
       " ('friend', 333),\n",
       " ('yet', 333),\n",
       " ('house', 333),\n",
       " ('friday', 329),\n",
       " ('before', 328),\n",
       " ('ever', 328),\n",
       " ('girl', 327),\n",
       " ('left', 326),\n",
       " ('ready', 323),\n",
       " ('away', 323),\n",
       " ('big', 322),\n",
       " ('same', 322),\n",
       " ('am', 316),\n",
       " ('sucks', 313),\n",
       " ('pretty', 313),\n",
       " ('went', 311),\n",
       " ('missed', 309),\n",
       " ('dam', 308),\n",
       " ('follow', 308),\n",
       " ('nothing', 308),\n",
       " ('said', 307),\n",
       " ('money', 307),\n",
       " ('thought', 306),\n",
       " ('maybe', 305),\n",
       " ('live', 305),\n",
       " ('finally', 305),\n",
       " ('give', 302),\n",
       " ('amazing', 301),\n",
       " ('later', 298),\n",
       " ('bit', 297),\n",
       " ('seen', 296),\n",
       " ('someone', 294),\n",
       " ('luck', 293),\n",
       " ('other', 291),\n",
       " ('ugh', 290),\n",
       " ('funny', 290),\n",
       " ('guess', 289),\n",
       " ('things', 288),\n",
       " ('pick', 288),\n",
       " ('monday', 287),\n",
       " ('also', 285),\n",
       " ('coming', 283),\n",
       " ('kind', 280),\n",
       " ('glad', 280),\n",
       " ('looks', 278),\n",
       " ('two', 277),\n",
       " ('baby', 276),\n",
       " ('call', 275),\n",
       " ('tell', 275),\n",
       " ('keep', 274),\n",
       " ('while', 274),\n",
       " ('bored', 274),\n",
       " ('god', 272),\n",
       " ('omg', 271),\n",
       " ('far', 269),\n",
       " ('wow', 269),\n",
       " ('early', 268),\n",
       " ('try', 268),\n",
       " ('those', 265),\n",
       " ('summer', 265),\n",
       " ('hear', 264),\n",
       " ('star', 264),\n",
       " ('hard', 263),\n",
       " ('ah', 258),\n",
       " ('actually', 258),\n",
       " ('haven', 257),\n",
       " ('saw', 257),\n",
       " ('lost', 256),\n",
       " ('few', 251),\n",
       " ('car', 250),\n",
       " ('waiting', 250),\n",
       " ('sum', 245),\n",
       " ('until', 245),\n",
       " ('help', 245),\n",
       " ('start', 245),\n",
       " ('job', 244),\n",
       " ('poor', 243),\n",
       " ('head', 243),\n",
       " ('birthday', 243),\n",
       " ('gone', 242),\n",
       " ('weather', 242),\n",
       " ('must', 241),\n",
       " ('does', 240),\n",
       " ('isn', 240),\n",
       " ('song', 239),\n",
       " ('sun', 238),\n",
       " ('making', 238),\n",
       " ('world', 237),\n",
       " ('party', 237),\n",
       " ('makes', 237),\n",
       " ('since', 236),\n",
       " ('dinner', 235),\n",
       " ('around', 234),\n",
       " ('might', 234),\n",
       " ('excited', 233),\n",
       " ('put', 232),\n",
       " ('stuff', 231),\n",
       " ('due', 231),\n",
       " ('play', 231),\n",
       " ('myself', 231),\n",
       " ('check', 228),\n",
       " ('rain', 228),\n",
       " ('hair', 227),\n",
       " ('read', 227),\n",
       " ('huge', 225),\n",
       " ('late', 223),\n",
       " ('lot', 223),\n",
       " ('yesterday', 223),\n",
       " ('till', 223),\n",
       " ('least', 222),\n",
       " ('anything', 222),\n",
       " ('gott', 221),\n",
       " ('side', 220),\n",
       " ('their', 218),\n",
       " ('music', 215),\n",
       " ('most', 215),\n",
       " ('shot', 214),\n",
       " ('family', 214),\n",
       " ('talk', 213),\n",
       " ('found', 213),\n",
       " ('mean', 211),\n",
       " ('listening', 210),\n",
       " ('cause', 209),\n",
       " ('almost', 208),\n",
       " ('end', 207),\n",
       " ('mine', 207),\n",
       " ('everything', 206),\n",
       " ('sunday', 206),\n",
       " ('mind', 205),\n",
       " ('free', 205),\n",
       " ('leave', 204),\n",
       " ('enjoy', 203),\n",
       " ('thinking', 201),\n",
       " ('many', 201),\n",
       " ('welcome', 201),\n",
       " ('game', 200),\n",
       " ('ahahah', 198),\n",
       " ('without', 196),\n",
       " ('lunch', 196),\n",
       " ('hurts', 195),\n",
       " ('wanted', 193),\n",
       " ('totally', 193),\n",
       " ('kiss', 193),\n",
       " ('believe', 193),\n",
       " ('eat', 193),\n",
       " ('cold', 192),\n",
       " ('probably', 192),\n",
       " ('use', 190),\n",
       " ('finished', 190),\n",
       " ('stop', 189),\n",
       " ('missing', 188),\n",
       " ('ill', 188),\n",
       " ('hour', 188),\n",
       " ('run', 188),\n",
       " ('oh', 187),\n",
       " ('every', 187),\n",
       " ('beautiful', 187),\n",
       " ('forward', 186),\n",
       " ('stupid', 185),\n",
       " ('sounds', 184),\n",
       " ('came', 184),\n",
       " ('years', 183),\n",
       " ('coffee', 181),\n",
       " ('place', 180),\n",
       " ('playing', 180),\n",
       " ('through', 179),\n",
       " ('headache', 178),\n",
       " ('food', 178),\n",
       " ('times', 178),\n",
       " ('eating', 175),\n",
       " ('which', 174),\n",
       " ('real', 173),\n",
       " ('these', 173),\n",
       " ('lovely', 171),\n",
       " ('both', 170),\n",
       " ('couldn', 170),\n",
       " ('enough', 169),\n",
       " ('took', 168),\n",
       " ('outside', 168),\n",
       " ('room', 167),\n",
       " ('says', 166),\n",
       " ('sitting', 165),\n",
       " ('weeks', 164),\n",
       " ('fly', 164),\n",
       " ('havana', 163),\n",
       " ('stuck', 162),\n",
       " ('office', 161),\n",
       " ('followers', 161),\n",
       " ('whole', 160),\n",
       " ('wasn', 159),\n",
       " ('ago', 159),\n",
       " ('following', 158),\n",
       " ('buy', 157),\n",
       " ('else', 156),\n",
       " ('wants', 155),\n",
       " ('talking', 154),\n",
       " ('woke', 154),\n",
       " ('tucking', 154),\n",
       " ('meeting', 153),\n",
       " ('taking', 153),\n",
       " ('full', 153),\n",
       " ('tree', 153),\n",
       " ('in', 152),\n",
       " ('meet', 152),\n",
       " ('name', 152),\n",
       " ('pp', 151),\n",
       " ('book', 151),\n",
       " ('wrong', 150),\n",
       " ('half', 150),\n",
       " ('stay', 150),\n",
       " ('able', 149),\n",
       " ('idea', 149),\n",
       " ('dad', 149),\n",
       " ('hopeful', 149),\n",
       " ('lucky', 149),\n",
       " ('updated', 148),\n",
       " ('super', 146),\n",
       " ('interest', 145),\n",
       " ('forgot', 145),\n",
       " ('class', 145),\n",
       " ('is', 144),\n",
       " ('own', 143),\n",
       " ('mamma', 142),\n",
       " ('told', 141),\n",
       " ('post', 141),\n",
       " ('called', 141),\n",
       " ('busy', 141),\n",
       " ('shopping', 141),\n",
       " ('face', 140),\n",
       " ('alone', 140),\n",
       " ('sweets', 140),\n",
       " ('gun', 140),\n",
       " ('loved', 140),\n",
       " ('dummy', 140),\n",
       " ('anyway', 140),\n",
       " ('part', 139),\n",
       " ('cry', 139),\n",
       " ('moss', 139),\n",
       " ('goodnight', 138),\n",
       " ('lots', 136),\n",
       " ('seems', 135),\n",
       " ('computer', 134),\n",
       " ('by', 134),\n",
       " ('used', 133),\n",
       " ('note', 133),\n",
       " ('hit', 132),\n",
       " ('blow', 132),\n",
       " ('break', 132),\n",
       " ('quite', 131),\n",
       " ('less', 131),\n",
       " ('boy', 131),\n",
       " ('saturday', 131),\n",
       " ('news', 130),\n",
       " ('gets', 130),\n",
       " ('online', 130),\n",
       " ('email', 130),\n",
       " ('holiday', 130),\n",
       " ('remember', 130),\n",
       " ('dog', 128),\n",
       " ('means', 128),\n",
       " ('rest', 128),\n",
       " ('wars', 128),\n",
       " ('hurt', 127),\n",
       " ('change', 127),\n",
       " ('minutes', 127),\n",
       " ('tried', 127),\n",
       " ('send', 126),\n",
       " ('sometimes', 125),\n",
       " ('raising', 125),\n",
       " ('either', 124),\n",
       " ('wont', 124),\n",
       " ('broke', 124),\n",
       " ('bank', 124),\n",
       " ('hullo', 124),\n",
       " ('pain', 123),\n",
       " ('final', 123),\n",
       " ('win', 122),\n",
       " ('once', 121),\n",
       " ('high', 121),\n",
       " ('leaving', 121),\n",
       " ('crazy', 121),\n",
       " ('starting', 121),\n",
       " ('showed', 121),\n",
       " ('btw', 121),\n",
       " ('watched', 121),\n",
       " ('set', 120),\n",
       " ('ice', 120),\n",
       " ('june', 120),\n",
       " ('breaking', 119),\n",
       " ('feels', 119),\n",
       " ('heard', 119),\n",
       " ('red', 119),\n",
       " ('true', 119),\n",
       " ('wonderful', 119),\n",
       " ('breakfast', 118),\n",
       " ('girls', 117),\n",
       " ('ran', 117),\n",
       " ('picture', 117),\n",
       " ('awake', 116),\n",
       " ('trip', 115),\n",
       " ('person', 115),\n",
       " ('grm', 115),\n",
       " ('at', 114),\n",
       " ('instead', 114),\n",
       " ('evening', 114),\n",
       " ('site', 114),\n",
       " ('definitely', 113),\n",
       " ('til', 113),\n",
       " ('close', 113),\n",
       " ('drive', 113),\n",
       " ('upon', 112),\n",
       " ('drink', 112),\n",
       " ('heart', 111),\n",
       " ('as', 111),\n",
       " ('cap', 110),\n",
       " ('care', 110),\n",
       " ('beach', 109),\n",
       " ('test', 109),\n",
       " ('concert', 109),\n",
       " ('link', 109),\n",
       " ('lmao', 109),\n",
       " ('ask', 108),\n",
       " ('men', 108),\n",
       " ('hoping', 107),\n",
       " ('tea', 107),\n",
       " ('facebook', 107),\n",
       " ('loves', 107),\n",
       " ('heading', 107),\n",
       " ('dead', 106),\n",
       " ('months', 106),\n",
       " ('suck', 106),\n",
       " ('comes', 106),\n",
       " ('turn', 106),\n",
       " ('fine', 106),\n",
       " ('started', 105),\n",
       " ('moving', 105),\n",
       " ('happened', 105),\n",
       " ('card', 105),\n",
       " ('perfect', 105),\n",
       " ('bought', 105),\n",
       " ('writing', 104),\n",
       " ('ll', 104),\n",
       " ('month', 104),\n",
       " ('six', 104),\n",
       " ('study', 104),\n",
       " ('goes', 104),\n",
       " ('looked', 103),\n",
       " ('wake', 103),\n",
       " ('wishing', 103),\n",
       " ('running', 103),\n",
       " ('ones', 102),\n",
       " ('list', 102),\n",
       " ('saying', 102),\n",
       " ('up', 102),\n",
       " ('xix', 102),\n",
       " ('couture', 102),\n",
       " ('shots', 101),\n",
       " ('needs', 101),\n",
       " ('hungry', 101),\n",
       " ('quit', 101),\n",
       " ('reply', 101),\n",
       " ('eyes', 101),\n",
       " ('moment', 101),\n",
       " ('favorite', 100),\n",
       " ('neck', 100),\n",
       " ('moves', 100),\n",
       " ('short', 99),\n",
       " ('reading', 99),\n",
       " ('course', 99),\n",
       " ('sunny', 99),\n",
       " ('bout', 98),\n",
       " ('open', 98),\n",
       " ('chocolate', 98),\n",
       " ('he', 98),\n",
       " ('couple', 98),\n",
       " ('fail', 97),\n",
       " ('text', 97),\n",
       " ('sore', 97),\n",
       " ('city', 97),\n",
       " ('sister', 97),\n",
       " ('fan', 97),\n",
       " ('miles', 97),\n",
       " ('problem', 96),\n",
       " ('write', 96),\n",
       " ('sleeping', 96),\n",
       " ('plan', 96),\n",
       " ('checked', 96),\n",
       " ('tickets', 95),\n",
       " ('supposed', 95),\n",
       " ('bye', 95),\n",
       " ('top', 95),\n",
       " ('boring', 95),\n",
       " ('me', 95),\n",
       " ('asleep', 94),\n",
       " ('gave', 94),\n",
       " ('keeps', 94),\n",
       " ('4th', 94),\n",
       " ('catch', 94),\n",
       " ('cat', 93),\n",
       " ('dear', 93),\n",
       " ('brother', 93),\n",
       " ('black', 92),\n",
       " ('seriously', 92),\n",
       " ('special', 91),\n",
       " ('jealous', 90),\n",
       " ('died', 90),\n",
       " ('dream', 90),\n",
       " ('songs', 90),\n",
       " ('town', 90),\n",
       " ('vote', 89),\n",
       " ('past', 89),\n",
       " ('fast', 89),\n",
       " ('happen', 89),\n",
       " ('together', 89),\n",
       " ('rather', 89),\n",
       " ('son', 88),\n",
       " ('sigh', 88),\n",
       " ('dark', 88),\n",
       " ('lawton', 88),\n",
       " ('using', 88),\n",
       " ('aren', 88),\n",
       " ('reason', 87),\n",
       " ('sums', 87),\n",
       " ('joy', 87),\n",
       " ('cream', 87),\n",
       " ('add', 87),\n",
       " ('mad', 87),\n",
       " ('boys', 87),\n",
       " ('pass', 86),\n",
       " ('afternoon', 86),\n",
       " ('unfortunately', 86),\n",
       " ('works', 86),\n",
       " ('bring', 86),\n",
       " ('chill', 86),\n",
       " ('season', 86),\n",
       " ('began', 86),\n",
       " ('spend', 86),\n",
       " ('wouldn', 86),\n",
       " ('hang', 85),\n",
       " ('broken', 85),\n",
       " ('cleaning', 85),\n",
       " ('clean', 85),\n",
       " ('rock', 85),\n",
       " ('nap', 84),\n",
       " ('finish', 84),\n",
       " ('line', 84),\n",
       " ('tour', 84),\n",
       " ('adams', 83),\n",
       " ('account', 83),\n",
       " ('sound', 83),\n",
       " ('goose', 83),\n",
       " ('space', 83),\n",
       " ('interesting', 83),\n",
       " ('each', 83),\n",
       " ('enjoying', 83),\n",
       " ('drinking', 82),\n",
       " ('water', 82),\n",
       " ('us', 82),\n",
       " ('loving', 82),\n",
       " ('date', 82),\n",
       " ('forget', 82),\n",
       " ('on', 82),\n",
       " ('london', 81),\n",
       " ('grand', 81),\n",
       " ('do', 81),\n",
       " ('weird', 81),\n",
       " ('driving', 81),\n",
       " ('listen', 81),\n",
       " ('met', 80),\n",
       " ('spent', 80),\n",
       " ('sadly', 80),\n",
       " ('cost', 80),\n",
       " ('sex', 80),\n",
       " ('1st', 80),\n",
       " ('plans', 80),\n",
       " ('fell', 79),\n",
       " ('knew', 79),\n",
       " ('second', 79),\n",
       " ('series', 79),\n",
       " ('jones', 79),\n",
       " ('page', 79),\n",
       " ('aunt', 79),\n",
       " ('foot', 79),\n",
       " ('pictures', 78),\n",
       " ('worth', 78),\n",
       " ('seem', 78),\n",
       " ('warm', 78),\n",
       " ('wonder', 77),\n",
       " ('die', 77),\n",
       " ('wife', 77),\n",
       " ('sent', 77),\n",
       " ('agree', 77),\n",
       " ('ride', 77),\n",
       " ('box', 77),\n",
       " ('white', 77),\n",
       " ('different', 77),\n",
       " ('hanging', 76),\n",
       " ('apparently', 76),\n",
       " ('three', 76),\n",
       " ('mood', 76),\n",
       " ('fair', 76),\n",
       " ('base', 76),\n",
       " ('upset', 76),\n",
       " ('of', 76),\n",
       " ('lady', 75),\n",
       " ('ate', 75),\n",
       " ('paper', 75),\n",
       " ('skin', 75),\n",
       " ('under', 75),\n",
       " ('sunshine', 75),\n",
       " ('episode', 75),\n",
       " ('garden', 75),\n",
       " ('comment', 75),\n",
       " ('wedding', 75),\n",
       " ('park', 75),\n",
       " ('lip', 74),\n",
       " ('download', 74),\n",
       " ('pizza', 74),\n",
       " ('liked', 74),\n",
       " ('promise', 74),\n",
       " ('sat', 74),\n",
       " ('walk', 74),\n",
       " ('posted', 74),\n",
       " ('played', 73),\n",
       " ('slow', 73),\n",
       " ('horrible', 73),\n",
       " ('club', 73),\n",
       " ('worse', 73),\n",
       " ('cheese', 73),\n",
       " ('vi', 72),\n",
       " ('bday', 72),\n",
       " ('dance', 72),\n",
       " ('felt', 72),\n",
       " ('camera', 72),\n",
       " ('congress', 72),\n",
       " ('shows', 72),\n",
       " ('learn', 71),\n",
       " ('beer', 71),\n",
       " ('store', 71),\n",
       " ('inside', 71),\n",
       " ('shirt', 71),\n",
       " ('words', 71),\n",
       " ('chance', 71),\n",
       " ('blue', 71),\n",
       " ('hand', 71),\n",
       " ('smile', 71),\n",
       " ('fall', 70),\n",
       " ('visit', 70),\n",
       " ('cake', 70),\n",
       " ('english', 70),\n",
       " ('easy', 70),\n",
       " ('rates', 70),\n",
       " ('during', 70),\n",
       " ('point', 70),\n",
       " ('message', 70),\n",
       " ('everybody', 70),\n",
       " ('absolutely', 69),\n",
       " ('ink', 69),\n",
       " ('living', 69),\n",
       " ('except', 69),\n",
       " ('save', 69),\n",
       " ('business', 69),\n",
       " ('wtf', 69),\n",
       " ('meant', 69),\n",
       " ('earlier', 68),\n",
       " ('crying', 68),\n",
       " ('ma', 68),\n",
       " ('fangs', 68),\n",
       " ('wit', 68),\n",
       " ('plus', 68),\n",
       " ('answer', 68),\n",
       " ('wear', 68),\n",
       " ('law', 68),\n",
       " ('middle', 67),\n",
       " ('rang', 67),\n",
       " ('completely', 67),\n",
       " ('longer', 67),\n",
       " ('shame', 67),\n",
       " ('figure', 67),\n",
       " ('worry', 67),\n",
       " ('relaxing', 67),\n",
       " ('packing', 66),\n",
       " ('thinks', 66),\n",
       " ('story', 66),\n",
       " ('parents', 66),\n",
       " ('be', 66),\n",
       " ('body', 66),\n",
       " ('austin', 66),\n",
       " ('fig', 66),\n",
       " ('green', 66),\n",
       " ('sal', 66),\n",
       " ('albus', 65),\n",
       " ('parts', 65),\n",
       " ('takes', 65),\n",
       " ('especially', 65),\n",
       " ('throat', 65),\n",
       " ('word', 65),\n",
       " ('traffic', 65),\n",
       " ('passed', 65),\n",
       " ('slept', 64),\n",
       " ('worst', 64),\n",
       " ('it', 64),\n",
       " ('john', 64),\n",
       " ('band', 64),\n",
       " ('admit', 63),\n",
       " ('yours', 63),\n",
       " ('happens', 63),\n",
       " ('number', 63),\n",
       " ('near', 63),\n",
       " ('pay', 63),\n",
       " ('dreams', 63),\n",
       " ('bet', 62),\n",
       " ('lazy', 62),\n",
       " ('needed', 62),\n",
       " ('taken', 62),\n",
       " ('along', 62),\n",
       " ('apple', 62),\n",
       " ('brain', 61),\n",
       " ('sign', 61),\n",
       " ('officially', 61),\n",
       " ('wishes', 61),\n",
       " ('behind', 61),\n",
       " ('project', 61),\n",
       " ('air', 61),\n",
       " ('pool', 61),\n",
       " ('suitor', 61),\n",
       " ('feet', 61),\n",
       " ('sleepy', 60),\n",
       " ('wine', 60),\n",
       " ('daughter', 60),\n",
       " ('lame', 60),\n",
       " ('drunk', 60),\n",
       " ('single', 60),\n",
       " ('kill', 60),\n",
       " ('brow', 60),\n",
       " ('fantastic', 60),\n",
       " ('starts', 59),\n",
       " ('minute', 59),\n",
       " ('shut', 59),\n",
       " ('power', 59),\n",
       " ('stomach', 59),\n",
       " ('film', 59),\n",
       " ('chat', 59),\n",
       " ('hobby', 59),\n",
       " ('fingers', 59),\n",
       " ('de', 58),\n",
       " ('realized', 58),\n",
       " ('radio', 58),\n",
       " ('disappointed', 58),\n",
       " ('bar', 58),\n",
       " ('lonely', 58),\n",
       " ('holy', 58),\n",
       " ('company', 58),\n",
       " ('join', 58),\n",
       " ('understand', 58),\n",
       " ('bless', 58),\n",
       " ('gift', 58),\n",
       " ('whatever', 58),\n",
       " ('wondering', 57),\n",
       " ('case', 57),\n",
       " ('homeward', 57),\n",
       " ('cook', 57),\n",
       " ('none', 57),\n",
       " ('canceled', 57),\n",
       " ('bah', 57),\n",
       " ('staying', 57),\n",
       " ('talent', 57),\n",
       " ('2nd', 57),\n",
       " ('shoes', 57),\n",
       " ('sold', 57),\n",
       " ('yourself', 57),\n",
       " ('forever', 57),\n",
       " ('appreciate', 56),\n",
       " ('cannot', 56),\n",
       " ('women', 56),\n",
       " ('hum', 56),\n",
       " ('studying', 56),\n",
       " ('small', 56),\n",
       " ('cup', 56),\n",
       " ('safe', 56),\n",
       " ('fact', 56),\n",
       " ('college', 56),\n",
       " ('mobile', 55),\n",
       " ('befriend', 55),\n",
       " ('speak', 55),\n",
       " ('double', 55),\n",
       " ('worked', 55),\n",
       " ('lui', 55),\n",
       " ('train', 55),\n",
       " ('worried', 55),\n",
       " ('although', 55),\n",
       " ('copy', 55),\n",
       " ('riding', 55),\n",
       " ('annoying', 54),\n",
       " ('brothers', 54),\n",
       " ('tom', 54),\n",
       " ('between', 54),\n",
       " ('matter', 54),\n",
       " ('quick', 54),\n",
       " ('walking', 54),\n",
       " ('stopped', 54),\n",
       " ('version', 54),\n",
       " ('sending', 54),\n",
       " ('random', 54),\n",
       " ('killed', 54),\n",
       " ('calling', 54),\n",
       " ('front', 54),\n",
       " ('shop', 54),\n",
       " ('thursday', 53),\n",
       " ('windows', 53),\n",
       " ('webster', 53),\n",
       " ('church', 53),\n",
       " ('sides', 53),\n",
       " ('tone', 53),\n",
       " ('web', 53),\n",
       " ('tuesday', 53),\n",
       " ('hold', 53),\n",
       " ('usually', 53),\n",
       " ('granulation', 53),\n",
       " ('david', 53),\n",
       " ('deal', 52),\n",
       " ('pus', 52),\n",
       " ('clot', 52),\n",
       " ('touch', 52),\n",
       " ('alight', 52),\n",
       " ('voice', 52),\n",
       " ('proud', 52),\n",
       " ('scared', 52),\n",
       " ('ball', 52),\n",
       " ('etc', 52),\n",
       " ('local', 51),\n",
       " ('chinese', 51),\n",
       " ('spending', 51),\n",
       " ('support', 51),\n",
       " ('exactly', 51),\n",
       " ('dress', 51),\n",
       " ('problems', 51),\n",
       " ('team', 51),\n",
       " ('share', 51),\n",
       " ('shall', 51),\n",
       " ('rainy', 51),\n",
       " ('clothes', 51),\n",
       " ('singing', 50),\n",
       " ('wednesday', 50),\n",
       " ('closed', 50),\n",
       " ('state', 50),\n",
       " ('roll', 50),\n",
       " ('door', 50),\n",
       " ('moved', 50),\n",
       " ('exciting', 50),\n",
       " ('revision', 50),\n",
       " ('probe', 49),\n",
       " ('scar', 49),\n",
       " ('import', 49),\n",
       " ('changed', 49),\n",
       " ('messages', 49),\n",
       " ('pray', 49),\n",
       " ('headed', 49),\n",
       " ('sing', 49),\n",
       " ('mail', 49),\n",
       " ('flight', 49),\n",
       " ('killing', 49),\n",
       " ('pitch', 49),\n",
       " ('july', 49),\n",
       " ('spine', 49),\n",
       " ('pink', 49),\n",
       " ('screen', 49),\n",
       " ('present', 49),\n",
       " ('dry', 49),\n",
       " ('loss', 49),\n",
       " ('paying', 49),\n",
       " ('extra', 49),\n",
       " ('track', 49),\n",
       " ('somewhere', 48),\n",
       " ('path', 48),\n",
       " ('lie', 48),\n",
       " ('gutted', 48),\n",
       " ('legs', 48),\n",
       " ('goodge', 48),\n",
       " ('jay', 48),\n",
       " ('moon', 48),\n",
       " ('christ', 48),\n",
       " ('king', 48),\n",
       " ('hospital', 48),\n",
       " ('indeed', 48),\n",
       " ('round', 48),\n",
       " ('road', 48),\n",
       " ('enjoyed', 48),\n",
       " ('beat', 47),\n",
       " ('french', 47),\n",
       " ('failed', 47),\n",
       " ('large', 47),\n",
       " ('others', 47),\n",
       " ('charge', 47),\n",
       " ('fix', 47),\n",
       " ('awful', 47),\n",
       " ('nights', 47),\n",
       " ('wind', 47),\n",
       " ('to', 47),\n",
       " ('young', 47),\n",
       " ('type', 47),\n",
       " ('cried', 46),\n",
       " ('decided', 46),\n",
       " ('caught', 46),\n",
       " ('sit', 46),\n",
       " ('machine', 46),\n",
       " ('books', 46),\n",
       " ('cousin', 46),\n",
       " ('followed', 46),\n",
       " ('hannah', 46),\n",
       " ('mary', 45),\n",
       " ('rrrr', 45),\n",
       " ('smell', 45),\n",
       " ('eye', 45),\n",
       " ...]"
      ]
     },
     "execution_count": 21,
     "metadata": {},
     "output_type": "execute_result"
    }
   ],
   "source": [
    "tweets = ' '.join(df[\"content\"].to_list()).split()\n",
    "counts = Counter(tweets).most_common()\n",
    "counts"
   ]
  },
  {
   "cell_type": "markdown",
   "metadata": {},
   "source": [
    "Dejamos los tweets finales como txt a modo de revisión."
   ]
  },
  {
   "cell_type": "code",
   "execution_count": 22,
   "metadata": {},
   "outputs": [],
   "source": [
    "with open('tweets.txt', 'w') as f:\n",
    "    for tweet in df[\"content\"]:\n",
    "        f.write(\"%s\\n\" % tweet)"
   ]
  },
  {
   "cell_type": "markdown",
   "metadata": {},
   "source": [
    "Y finalmente, para terminar con esta sección eliminamos las filas que quedaron vacias producto de las muchas transformaciones."
   ]
  },
  {
   "cell_type": "code",
   "execution_count": 23,
   "metadata": {},
   "outputs": [],
   "source": [
    "df[df['content'].astype(bool)]\n",
    "df = df.dropna(axis=0)"
   ]
  },
  {
   "cell_type": "markdown",
   "metadata": {},
   "source": [
    "### III. CountVectorizer"
   ]
  },
  {
   "cell_type": "markdown",
   "metadata": {},
   "source": [
    "En el siguiente codigo lo que hacemos es:\n",
    "* Definir una lemantización del texto.\n",
    "* Eliminamos los acentos (si es que hay alguno).\n",
    "\n",
    "Cuando realizo un fit en countvectorizer, mi computador se demora muchísimo tiempo en procesar. Es por esto que me vi obligado a reducir el dataset para disminuir los tiempos de ejecución."
   ]
  },
  {
   "cell_type": "code",
   "execution_count": 24,
   "metadata": {},
   "outputs": [],
   "source": [
    "string_content = ' '.join(df[\"content\"].to_list()) # convertimos toda el contenido en un solo string\n",
    "from nltk import word_tokenize        \n",
    "from nltk.stem import WordNetLemmatizer\n",
    "\n",
    "class LemmaTokenizer(object):\n",
    "    def __init__(self):\n",
    "        self.wnl = WordNetLemmatizer()\n",
    "    def __call__(self, articles):\n",
    "        return [self.wnl.lemmatize(t) for t in word_tokenize(string_content)]\n",
    "\n",
    "count_vectorizer = CountVectorizer(#tokenizer=LemmaTokenizer(),\n",
    "                       strip_accents = 'unicode',\n",
    "                       stop_words = 'english')"
   ]
  },
  {
   "cell_type": "code",
   "execution_count": 25,
   "metadata": {},
   "outputs": [],
   "source": [
    "count_vectorizer_fit = count_vectorizer.fit_transform(df[\"content\"])\n",
    "words = count_vectorizer.get_feature_names()\n",
    "words_freq = count_vectorizer_fit.toarray().sum(axis=0)\n",
    "words_freq = list(zip(words_freq, words))"
   ]
  },
  {
   "cell_type": "code",
   "execution_count": 26,
   "metadata": {},
   "outputs": [
    {
     "name": "stdout",
     "output_type": "stream",
     "text": [
      "[(3234, 'just'), (3221, 'day'), (2356, 'good'), (2065, 'like'), (1687, 'love'), (1662, 'going'), (1656, 'today'), (1647, 'got'), (1638, 'work'), (1504, 'happy'), (1394, 'time'), (1368, 'know'), (1355, 'lol'), (1301, 'really'), (1259, 'don'), (1157, 'night'), (1121, 'new'), (1086, 'home'), (1063, 'want'), (1060, 'think'), (1016, 'thanks'), (916, 'miss'), (896, 'hope'), (895, 'morning'), (881, 'year'), (881, 'great'), (869, 'need'), (839, 'did'), (809, 'twitter'), (798, 'hata'), (790, 'feel'), (770, 'fun'), (755, 'tomorrow'), (719, 'sad'), (716, 'wish'), (700, 'yes'), (698, 'tonight'), (694, 'sorry'), (692, 'bad'), (688, 'didn'), (672, 'right'), (656, 'mother'), (646, 'make'), (641, 'nice'), (621, 'getting'), (620, 'come'), (612, 'better'), (609, 'week'), (605, 'sleep'), (605, 'donna')]\n"
     ]
    }
   ],
   "source": [
    "words_freq.sort(reverse=True)\n",
    "freq = words_freq[:50] \n",
    "print(freq)"
   ]
  },
  {
   "cell_type": "markdown",
   "metadata": {},
   "source": [
    "Ahora que tenemos las palabras más frecuentes, vamos a explorar cuales son las primeras 50 que más se repiten con un gráfico de barras"
   ]
  },
  {
   "cell_type": "code",
   "execution_count": 27,
   "metadata": {},
   "outputs": [
    {
     "data": {
      "text/plain": [
       "<matplotlib.axes._subplots.AxesSubplot at 0x1518af1cfc8>"
      ]
     },
     "execution_count": 27,
     "metadata": {},
     "output_type": "execute_result"
    },
    {
     "data": {
      "text/plain": [
       "<Figure size 720x720 with 0 Axes>"
      ]
     },
     "metadata": {},
     "output_type": "display_data"
    },
    {
     "data": {
      "image/png": "[encoded data removed]",
      "text/plain": [
       "<Figure size 720x720 with 1 Axes>"
      ]
     },
     "metadata": {
      "needs_background": "light"
     },
     "output_type": "display_data"
    }
   ],
   "source": [
    "freq = words_freq[:51]\n",
    "x_axis = [w for n, w in freq]\n",
    "y_axis = [n for n, w in freq]\n",
    "\n",
    "plt.figure(figsize=(10, 10))\n",
    "plt.rc('xtick', labelsize=10)\n",
    "plt.rc('ytick', labelsize=12)\n",
    "plt.rc('axes', labelsize=14)\n",
    "plt.figure(figsize=(10, 10))\n",
    "plt.xticks(rotation=90)\n",
    "sns.barplot(x = x_axis, y = y_axis)"
   ]
  },
  {
   "cell_type": "markdown",
   "metadata": {},
   "source": [
    "En el gráfico tenemos que las palabras más comunes después de aplicar countvectorizer (lo que difieren ,en parte, de las palabras que vimos antes de aplicar countvectorizer). Vemos que las palabras más comunes tienen que ver con el tiempo, como day, today, time y con sentimientos, como love, good y happy. Estas palabras, como vimos anteriormente en el análisis exploratorio, tienen una identificación clara de positivismo o negativismo. A continuación implementaremos modelos de clasificación que podrán predecir cuándo un tweet es negativo o positivo."
   ]
  },
  {
   "cell_type": "markdown",
   "metadata": {},
   "source": [
    "## <u>Modelación.</u>\n",
    "\n",
    "En esta sección realizaremos lo siguiente:\n",
    "* Cinco modelos vainilla de clasificación y sus reportes de métrica respectivos.\n",
    "* Búsqueda de los mejores hiperparámetros con GridSearchCV a los 5 modelos anteriores junto a sus metricas  de desempeño respectivos. \n",
    "* Serialización al mejor modelo que cumpla con el benchmark requerido.\n",
    "* Conclusiones finales."
   ]
  },
  {
   "cell_type": "markdown",
   "metadata": {},
   "source": [
    "## I. Modelos Vainilla"
   ]
  },
  {
   "cell_type": "markdown",
   "metadata": {},
   "source": [
    "En esta etapa se realizarán distintos modelos que responden a la problemática de clasificar un tweet entre positivo o negativo. De esta manera y para fines prácticos se busca realizar cinco modelos distintos que responden a cinco algoritmos distintos, pero todos intentarán resolver la misma problemática. Los modelos serán de tipo vainilla, es decir, utilizaremos los parámetros que vienen por defecto en el modelo.<br>\n",
    "Después de efectuar los modelos, vamos a refactorizar para mejorar su capacidad predictiva utilizando GridSearchCV y luego vamos a volver a evaluarlos para quedarnos así con el modelo que pueda resolver de mejor manera la problemática mencionada."
   ]
  },
  {
   "cell_type": "code",
   "execution_count": 28,
   "metadata": {},
   "outputs": [],
   "source": [
    "# Dividimos los datos en train y test\n",
    "\n",
    "y = df[\"sentiment\"].astype('int')\n",
    "X = df[\"content\"]\n",
    "X_train, X_test, y_train, y_test = train_test_split(X, y, test_size=0.33, random_state=14846)"
   ]
  },
  {
   "cell_type": "markdown",
   "metadata": {},
   "source": [
    "### Árboles de decisión"
   ]
  },
  {
   "cell_type": "code",
   "execution_count": 29,
   "metadata": {},
   "outputs": [],
   "source": [
    "# Definimos el modelo\n",
    "\n",
    "clf_tree = Pipeline(\n",
    "    [('vect', CountVectorizer()),\n",
    "     ('clf', DecisionTreeClassifier())])"
   ]
  },
  {
   "cell_type": "code",
   "execution_count": 30,
   "metadata": {},
   "outputs": [
    {
     "data": {
      "text/plain": [
       "Pipeline(steps=[('vect', CountVectorizer()), ('clf', DecisionTreeClassifier())])"
      ]
     },
     "execution_count": 30,
     "metadata": {},
     "output_type": "execute_result"
    }
   ],
   "source": [
    "# Entrenamos el modelo.\n",
    "\n",
    "clf_tree.fit(X_train, y_train)"
   ]
  },
  {
   "cell_type": "code",
   "execution_count": 31,
   "metadata": {},
   "outputs": [
    {
     "name": "stdout",
     "output_type": "stream",
     "text": [
      "              precision    recall  f1-score   support\n",
      "\n",
      "           0       0.62      0.63      0.62      6728\n",
      "           1       0.61      0.59      0.60      6472\n",
      "\n",
      "    accuracy                           0.61     13200\n",
      "   macro avg       0.61      0.61      0.61     13200\n",
      "weighted avg       0.61      0.61      0.61     13200\n",
      "\n"
     ]
    }
   ],
   "source": [
    "# Implementamos una predicción sobre test y calculamos su desempeño.\n",
    "\n",
    "y_hat = clf_tree.predict(X_test)\n",
    "print(classification_report(y_test, y_hat))"
   ]
  },
  {
   "cell_type": "markdown",
   "metadata": {},
   "source": [
    "### AdaBoost"
   ]
  },
  {
   "cell_type": "code",
   "execution_count": 32,
   "metadata": {},
   "outputs": [],
   "source": [
    "# Definimos el modelo\n",
    "\n",
    "clf_adaboost = Pipeline(\n",
    "    [('vect', CountVectorizer()),\n",
    "     ('clf', AdaBoostClassifier())])"
   ]
  },
  {
   "cell_type": "code",
   "execution_count": 33,
   "metadata": {},
   "outputs": [
    {
     "data": {
      "text/plain": [
       "Pipeline(steps=[('vect', CountVectorizer()), ('clf', AdaBoostClassifier())])"
      ]
     },
     "execution_count": 33,
     "metadata": {},
     "output_type": "execute_result"
    }
   ],
   "source": [
    "# Entrenamos el modelo.\n",
    "\n",
    "clf_adaboost.fit(X_train, y_train)"
   ]
  },
  {
   "cell_type": "code",
   "execution_count": 34,
   "metadata": {},
   "outputs": [
    {
     "name": "stdout",
     "output_type": "stream",
     "text": [
      "              precision    recall  f1-score   support\n",
      "\n",
      "           0       0.60      0.85      0.71      6728\n",
      "           1       0.73      0.42      0.53      6472\n",
      "\n",
      "    accuracy                           0.64     13200\n",
      "   macro avg       0.67      0.64      0.62     13200\n",
      "weighted avg       0.67      0.64      0.62     13200\n",
      "\n"
     ]
    }
   ],
   "source": [
    "# Implementamos una predicción sobre test y calculamos su desempeño.\n",
    "\n",
    "y_hat = clf_adaboost.predict(X_test)\n",
    "print(classification_report(y_test, y_hat))"
   ]
  },
  {
   "cell_type": "markdown",
   "metadata": {},
   "source": [
    "### GradientBoost"
   ]
  },
  {
   "cell_type": "code",
   "execution_count": 35,
   "metadata": {},
   "outputs": [],
   "source": [
    "# Definimos el modelo\n",
    "\n",
    "clf_gradientboost = Pipeline(\n",
    "    [('vect', CountVectorizer()),\n",
    "     ('clf', GradientBoostingClassifier())])"
   ]
  },
  {
   "cell_type": "code",
   "execution_count": 36,
   "metadata": {},
   "outputs": [
    {
     "data": {
      "text/plain": [
       "Pipeline(steps=[('vect', CountVectorizer()),\n",
       "                ('clf', GradientBoostingClassifier())])"
      ]
     },
     "execution_count": 36,
     "metadata": {},
     "output_type": "execute_result"
    }
   ],
   "source": [
    "# Entrenamos el modelo.\n",
    "\n",
    "clf_gradientboost.fit(X_train, y_train)"
   ]
  },
  {
   "cell_type": "code",
   "execution_count": 37,
   "metadata": {},
   "outputs": [
    {
     "name": "stdout",
     "output_type": "stream",
     "text": [
      "              precision    recall  f1-score   support\n",
      "\n",
      "           0       0.61      0.84      0.71      6728\n",
      "           1       0.73      0.44      0.55      6472\n",
      "\n",
      "    accuracy                           0.65     13200\n",
      "   macro avg       0.67      0.64      0.63     13200\n",
      "weighted avg       0.67      0.65      0.63     13200\n",
      "\n"
     ]
    }
   ],
   "source": [
    "# Implementamos una predicción sobre test y calculamos su desempeño.\n",
    "\n",
    "y_hat = clf_gradientboost.predict(X_test)\n",
    "print(classification_report(y_test, y_hat))"
   ]
  },
  {
   "cell_type": "markdown",
   "metadata": {},
   "source": [
    "### Random Forest"
   ]
  },
  {
   "cell_type": "code",
   "execution_count": 38,
   "metadata": {},
   "outputs": [],
   "source": [
    "# Definimos el modelo\n",
    "\n",
    "clf_randomforest = Pipeline(\n",
    "    [('vect', CountVectorizer()),\n",
    "     ('clf', RandomForestClassifier())])"
   ]
  },
  {
   "cell_type": "code",
   "execution_count": 39,
   "metadata": {},
   "outputs": [
    {
     "data": {
      "text/plain": [
       "Pipeline(steps=[('vect', CountVectorizer()), ('clf', RandomForestClassifier())])"
      ]
     },
     "execution_count": 39,
     "metadata": {},
     "output_type": "execute_result"
    }
   ],
   "source": [
    "# Entrenamos el modelo.\n",
    "\n",
    "clf_randomforest.fit(X_train, y_train)"
   ]
  },
  {
   "cell_type": "code",
   "execution_count": 40,
   "metadata": {},
   "outputs": [
    {
     "name": "stdout",
     "output_type": "stream",
     "text": [
      "              precision    recall  f1-score   support\n",
      "\n",
      "           0       0.67      0.70      0.68      6728\n",
      "           1       0.67      0.64      0.66      6472\n",
      "\n",
      "    accuracy                           0.67     13200\n",
      "   macro avg       0.67      0.67      0.67     13200\n",
      "weighted avg       0.67      0.67      0.67     13200\n",
      "\n"
     ]
    }
   ],
   "source": [
    "# Implementamos una predicción sobre test y calculamos su desempeño.\n",
    "\n",
    "y_hat = clf_randomforest.predict(X_test)\n",
    "print(classification_report(y_test, y_hat))"
   ]
  },
  {
   "cell_type": "markdown",
   "metadata": {},
   "source": [
    "### Naive Bayes"
   ]
  },
  {
   "cell_type": "code",
   "execution_count": 41,
   "metadata": {},
   "outputs": [],
   "source": [
    "# Definimos el modelo\n",
    "\n",
    "clf_naivebayes = Pipeline(\n",
    "    [('vect', CountVectorizer()),\n",
    "     ('clf', BernoulliNB())])"
   ]
  },
  {
   "cell_type": "code",
   "execution_count": 42,
   "metadata": {},
   "outputs": [
    {
     "data": {
      "text/plain": [
       "Pipeline(steps=[('vect', CountVectorizer()), ('clf', BernoulliNB())])"
      ]
     },
     "execution_count": 42,
     "metadata": {},
     "output_type": "execute_result"
    }
   ],
   "source": [
    "# Entrenamos el modelo.\n",
    "\n",
    "clf_naivebayes.fit(X_train, y_train)"
   ]
  },
  {
   "cell_type": "code",
   "execution_count": 43,
   "metadata": {},
   "outputs": [
    {
     "name": "stdout",
     "output_type": "stream",
     "text": [
      "              precision    recall  f1-score   support\n",
      "\n",
      "           0       0.67      0.71      0.69      6728\n",
      "           1       0.68      0.63      0.65      6472\n",
      "\n",
      "    accuracy                           0.67     13200\n",
      "   macro avg       0.67      0.67      0.67     13200\n",
      "weighted avg       0.67      0.67      0.67     13200\n",
      "\n"
     ]
    }
   ],
   "source": [
    "# Implementamos una predicción sobre test y calculamos su desempeño.\n",
    "\n",
    "y_hat = clf_naivebayes.predict(X_test)\n",
    "print(classification_report(y_test, y_hat))"
   ]
  },
  {
   "cell_type": "markdown",
   "metadata": {},
   "source": [
    "## II. Modelos aplicando GridSearchCV"
   ]
  },
  {
   "cell_type": "markdown",
   "metadata": {},
   "source": [
    "Ahora que ya observamos el desempeño de nuestros modelos vamos a ver en cuánto pueden mejorar con los hiperparámetros más optimos utilizando GridSearchCV."
   ]
  },
  {
   "cell_type": "markdown",
   "metadata": {},
   "source": [
    "### Árboles de decisión"
   ]
  },
  {
   "cell_type": "code",
   "execution_count": 44,
   "metadata": {},
   "outputs": [],
   "source": [
    "clf_tree_gs = Pipeline(\n",
    "    [('vect', CountVectorizer()),\n",
    "     ('clf', DecisionTreeClassifier())])"
   ]
  },
  {
   "cell_type": "code",
   "execution_count": 45,
   "metadata": {},
   "outputs": [
    {
     "data": {
      "text/plain": [
       "GridSearchCV(cv=5,\n",
       "             estimator=Pipeline(steps=[('vect', CountVectorizer()),\n",
       "                                       ('clf', DecisionTreeClassifier())]),\n",
       "             n_jobs=-1,\n",
       "             param_grid={'clf__max_depth': array([  10,  406,  803, 1200]),\n",
       "                         'clf__max_features': ['auto', 'sqrt', 'log2', None],\n",
       "                         'clf__min_samples_split': [2, 10, 15]},\n",
       "             scoring='precision')"
      ]
     },
     "execution_count": 45,
     "metadata": {},
     "output_type": "execute_result"
    }
   ],
   "source": [
    "parameters = {'clf__max_features': ['auto', 'sqrt','log2'],\n",
    "              'clf__max_depth': np.linspace(10, 1200, 4, dtype = int),\n",
    "              'clf__min_samples_split': [2, 10, 15]}\n",
    "\n",
    "tree_grid = GridSearchCV(clf_tree_gs,\n",
    "                         param_grid = parameters,\n",
    "                         scoring=\"precision\",\n",
    "                         cv=5, n_jobs=-1)\n",
    "\n",
    "tree_grid.fit(X_train, y_train)"
   ]
  },
  {
   "cell_type": "code",
   "execution_count": 46,
   "metadata": {},
   "outputs": [
    {
     "name": "stdout",
     "output_type": "stream",
     "text": [
      "Los mejores parámetros son:\n",
      "clf__max_depth: 10\n",
      "clf__max_features: None\n",
      "clf__min_samples_split: 2\n"
     ]
    }
   ],
   "source": [
    "print(\"Los mejores parámetros son:\")\n",
    "bp = tree_grid.best_params_\n",
    "for k, v in bp.items():\n",
    "    print(\"{}: {}\".format(k, v))"
   ]
  },
  {
   "cell_type": "code",
   "execution_count": 47,
   "metadata": {},
   "outputs": [
    {
     "name": "stdout",
     "output_type": "stream",
     "text": [
      "              precision    recall  f1-score   support\n",
      "\n",
      "           0       0.57      0.91      0.70      6728\n",
      "           1       0.75      0.28      0.41      6472\n",
      "\n",
      "    accuracy                           0.60     13200\n",
      "   macro avg       0.66      0.59      0.55     13200\n",
      "weighted avg       0.66      0.60      0.56     13200\n",
      "\n"
     ]
    }
   ],
   "source": [
    "y_hat = tree_grid.best_estimator_.predict(X_test)\n",
    "print(classification_report(y_test, y_hat))"
   ]
  },
  {
   "cell_type": "markdown",
   "metadata": {},
   "source": [
    "### AdaBoost"
   ]
  },
  {
   "cell_type": "code",
   "execution_count": 48,
   "metadata": {},
   "outputs": [],
   "source": [
    "clf_ab_gs = Pipeline(\n",
    "    [('vect', CountVectorizer()),\n",
    "     ('clf', AdaBoostClassifier())])"
   ]
  },
  {
   "cell_type": "code",
   "execution_count": 49,
   "metadata": {},
   "outputs": [
    {
     "data": {
      "text/plain": [
       "GridSearchCV(cv=5,\n",
       "             estimator=Pipeline(steps=[('vect', CountVectorizer()),\n",
       "                                       ('clf', AdaBoostClassifier())]),\n",
       "             n_jobs=-1,\n",
       "             param_grid={'clf__learning_rate': [0.01, 0.1, 0.5, 1],\n",
       "                         'clf__n_estimators': [50, 100, 500]})"
      ]
     },
     "execution_count": 49,
     "metadata": {},
     "output_type": "execute_result"
    }
   ],
   "source": [
    "parameters = {'clf__learning_rate': [0.01, 0.1, 0.5, 1],\n",
    "              'clf__n_estimators': [50, 100, 500]}\n",
    "ab_grid = GridSearchCV(clf_ab_gs,\n",
    "                         param_grid = parameters,\n",
    "                         cv=5, n_jobs=-1)\n",
    "\n",
    "ab_grid.fit(X_train, y_train)"
   ]
  },
  {
   "cell_type": "code",
   "execution_count": 50,
   "metadata": {},
   "outputs": [
    {
     "name": "stdout",
     "output_type": "stream",
     "text": [
      "Los mejores parámetros son:\n",
      "clf__learning_rate: 0.5\n",
      "clf__n_estimators: 500\n"
     ]
    }
   ],
   "source": [
    "print(\"Los mejores parámetros son:\")\n",
    "bp = ab_grid.best_params_\n",
    "for k, v in bp.items():\n",
    "    print(\"{}: {}\".format(k, v))"
   ]
  },
  {
   "cell_type": "code",
   "execution_count": 51,
   "metadata": {},
   "outputs": [
    {
     "name": "stdout",
     "output_type": "stream",
     "text": [
      "              precision    recall  f1-score   support\n",
      "\n",
      "           0       0.65      0.75      0.70      6728\n",
      "           1       0.69      0.59      0.64      6472\n",
      "\n",
      "    accuracy                           0.67     13200\n",
      "   macro avg       0.67      0.67      0.67     13200\n",
      "weighted avg       0.67      0.67      0.67     13200\n",
      "\n"
     ]
    }
   ],
   "source": [
    "y_hat = ab_grid.best_estimator_.predict(X_test)\n",
    "print(classification_report(y_test, y_hat))"
   ]
  },
  {
   "cell_type": "markdown",
   "metadata": {},
   "source": [
    "### GradientBoost"
   ]
  },
  {
   "cell_type": "code",
   "execution_count": 52,
   "metadata": {},
   "outputs": [],
   "source": [
    "clf_gb_gs = Pipeline(\n",
    "    [('vect', CountVectorizer()),\n",
    "     ('clf', AdaBoostClassifier())])"
   ]
  },
  {
   "cell_type": "code",
   "execution_count": 53,
   "metadata": {},
   "outputs": [
    {
     "name": "stdout",
     "output_type": "stream",
     "text": [
      "Wall time: 3min 35s\n"
     ]
    },
    {
     "data": {
      "text/plain": [
       "GridSearchCV(cv=5,\n",
       "             estimator=Pipeline(steps=[('vect', CountVectorizer()),\n",
       "                                       ('clf', AdaBoostClassifier())]),\n",
       "             n_jobs=-1,\n",
       "             param_grid={'clf__learning_rate': [0.01, 0.1, 0.5],\n",
       "                         'clf__n_estimators': [50, 100, 500]})"
      ]
     },
     "execution_count": 53,
     "metadata": {},
     "output_type": "execute_result"
    }
   ],
   "source": [
    "%%time\n",
    "parameters = {'clf__learning_rate': [0.01, 0.1, 0.5],\n",
    "              'clf__n_estimators': [50, 100, 500]}\n",
    "gb_grid = GridSearchCV(clf_gb_gs,\n",
    "                         param_grid = parameters,\n",
    "                         cv=5, n_jobs=-1)\n",
    "\n",
    "gb_grid.fit(X_train, y_train)"
   ]
  },
  {
   "cell_type": "code",
   "execution_count": 54,
   "metadata": {},
   "outputs": [
    {
     "name": "stdout",
     "output_type": "stream",
     "text": [
      "Los mejores parámetros son:\n",
      "clf__learning_rate: 0.5\n",
      "clf__n_estimators: 500\n"
     ]
    }
   ],
   "source": [
    "print(\"Los mejores parámetros son:\")\n",
    "bp = gb_grid.best_params_\n",
    "for k, v in bp.items():\n",
    "    print(\"{}: {}\".format(k, v))"
   ]
  },
  {
   "cell_type": "code",
   "execution_count": 55,
   "metadata": {},
   "outputs": [
    {
     "name": "stdout",
     "output_type": "stream",
     "text": [
      "              precision    recall  f1-score   support\n",
      "\n",
      "           0       0.65      0.75      0.70      6728\n",
      "           1       0.69      0.59      0.64      6472\n",
      "\n",
      "    accuracy                           0.67     13200\n",
      "   macro avg       0.67      0.67      0.67     13200\n",
      "weighted avg       0.67      0.67      0.67     13200\n",
      "\n"
     ]
    }
   ],
   "source": [
    "y_hat = gb_grid.best_estimator_.predict(X_test)\n",
    "print(classification_report(y_test, y_hat))"
   ]
  },
  {
   "cell_type": "markdown",
   "metadata": {},
   "source": [
    "### Random Forest"
   ]
  },
  {
   "cell_type": "code",
   "execution_count": 56,
   "metadata": {},
   "outputs": [],
   "source": [
    "clf_rf_gs = Pipeline(\n",
    "    [('vect', CountVectorizer()),\n",
    "     ('clf', RandomForestClassifier())])"
   ]
  },
  {
   "cell_type": "code",
   "execution_count": 57,
   "metadata": {},
   "outputs": [
    {
     "name": "stdout",
     "output_type": "stream",
     "text": [
      "Wall time: 31min 46s\n"
     ]
    },
    {
     "data": {
      "text/plain": [
       "GridSearchCV(cv=5,\n",
       "             estimator=Pipeline(steps=[('vect', CountVectorizer()),\n",
       "                                       ('clf', RandomForestClassifier())]),\n",
       "             n_jobs=-1,\n",
       "             param_grid={'clf__max_depth': array([  10,  406,  803, 1200]),\n",
       "                         'clf__max_features': ['auto', 'sqrt', 'log2']})"
      ]
     },
     "execution_count": 57,
     "metadata": {},
     "output_type": "execute_result"
    }
   ],
   "source": [
    "%%time\n",
    "parameters = {'clf__max_features': ['auto', 'sqrt','log2'],\n",
    "              'clf__max_depth': np.linspace(10, 1200, 4, dtype = int)}\n",
    "rf_grid = GridSearchCV(clf_rf_gs,\n",
    "                         param_grid = parameters,\n",
    "                         cv=5, n_jobs=-1)\n",
    "\n",
    "rf_grid.fit(X_train, y_train)"
   ]
  },
  {
   "cell_type": "code",
   "execution_count": 58,
   "metadata": {},
   "outputs": [
    {
     "name": "stdout",
     "output_type": "stream",
     "text": [
      "Los mejores parámetros son:\n",
      "clf__max_depth: 406\n",
      "clf__max_features: auto\n"
     ]
    }
   ],
   "source": [
    "print(\"Los mejores parámetros son:\")\n",
    "bp = rf_grid.best_params_\n",
    "for k, v in bp.items():\n",
    "    print(\"{}: {}\".format(k, v))"
   ]
  },
  {
   "cell_type": "code",
   "execution_count": 59,
   "metadata": {},
   "outputs": [
    {
     "name": "stdout",
     "output_type": "stream",
     "text": [
      "              precision    recall  f1-score   support\n",
      "\n",
      "           0       0.66      0.72      0.69      6728\n",
      "           1       0.68      0.61      0.64      6472\n",
      "\n",
      "    accuracy                           0.67     13200\n",
      "   macro avg       0.67      0.67      0.67     13200\n",
      "weighted avg       0.67      0.67      0.67     13200\n",
      "\n"
     ]
    }
   ],
   "source": [
    "y_hat = rf_grid.best_estimator_.predict(X_test)\n",
    "print(classification_report(y_test, y_hat))"
   ]
  },
  {
   "cell_type": "markdown",
   "metadata": {},
   "source": [
    "### Naive Bayes"
   ]
  },
  {
   "cell_type": "code",
   "execution_count": 60,
   "metadata": {},
   "outputs": [],
   "source": [
    "clf_nv_gs = Pipeline(\n",
    "    [('vect', CountVectorizer()),\n",
    "     ('clf', BernoulliNB())])"
   ]
  },
  {
   "cell_type": "code",
   "execution_count": 61,
   "metadata": {},
   "outputs": [
    {
     "name": "stdout",
     "output_type": "stream",
     "text": [
      "Wall time: 51.3 s\n"
     ]
    },
    {
     "data": {
      "text/plain": [
       "GridSearchCV(cv=5,\n",
       "             estimator=Pipeline(steps=[('vect', CountVectorizer()),\n",
       "                                       ('clf', BernoulliNB())]),\n",
       "             n_jobs=-1,\n",
       "             param_grid={'clf__alpha': (0.01, 0.1, 1),\n",
       "                         'clf__class_prior': (None, 1, 5, 10),\n",
       "                         'clf__fit_prior': [True, False]})"
      ]
     },
     "execution_count": 61,
     "metadata": {},
     "output_type": "execute_result"
    }
   ],
   "source": [
    "%%time\n",
    "parameters = {'clf__alpha': (0.01, 0.1, 1),\n",
    "              'clf__fit_prior': [True, False],\n",
    "              'clf__class_prior': (None, 1, 5, 10)}              \n",
    "nv_grid = GridSearchCV(clf_nv_gs,\n",
    "                         param_grid = parameters,\n",
    "                         cv=5, n_jobs=-1)\n",
    "\n",
    "nv_grid.fit(X_train, y_train)"
   ]
  },
  {
   "cell_type": "code",
   "execution_count": 62,
   "metadata": {},
   "outputs": [
    {
     "name": "stdout",
     "output_type": "stream",
     "text": [
      "Los mejores parámetros son:\n",
      "clf__alpha: 1\n",
      "clf__class_prior: None\n",
      "clf__fit_prior: True\n"
     ]
    }
   ],
   "source": [
    "print(\"Los mejores parámetros son:\")\n",
    "bp = nv_grid.best_params_\n",
    "for k, v in bp.items():\n",
    "    print(\"{}: {}\".format(k, v))"
   ]
  },
  {
   "cell_type": "code",
   "execution_count": 63,
   "metadata": {},
   "outputs": [
    {
     "name": "stdout",
     "output_type": "stream",
     "text": [
      "              precision    recall  f1-score   support\n",
      "\n",
      "           0       0.67      0.71      0.69      6728\n",
      "           1       0.68      0.63      0.65      6472\n",
      "\n",
      "    accuracy                           0.67     13200\n",
      "   macro avg       0.67      0.67      0.67     13200\n",
      "weighted avg       0.67      0.67      0.67     13200\n",
      "\n"
     ]
    }
   ],
   "source": [
    "y_hat = nv_grid.best_estimator_.predict(X_test)\n",
    "print(classification_report(y_test, y_hat))"
   ]
  },
  {
   "cell_type": "markdown",
   "metadata": {},
   "source": [
    "### III. Serialización del mejor modelo"
   ]
  },
  {
   "cell_type": "markdown",
   "metadata": {},
   "source": [
    "De los modelos entrenados, tanto en vainilla como en GridSearchCV, hay dos modelos que superan el benchmark. Recordemos que el benchmark es el siguiente:\n",
    "* Accuracy: 0.63\n",
    "* Precision (clase 1): 0.72\n",
    "\n",
    "Los modelos vainilla GradientBoost y AdaBoost superaron estos dos indicadores, teniendo mejores resultados el algoritmo GradientBoost:\n",
    "* Accuracy: 0.65\n",
    "* Precision (clase 1): 0.73\n",
    "\n",
    "A continuación, serializaremos el modelo con la librería joblib."
   ]
  },
  {
   "cell_type": "code",
   "execution_count": 64,
   "metadata": {},
   "outputs": [],
   "source": [
    "from joblib import load, dump\n",
    "\n",
    "dump(clf_gradientboost, \"best_model.joblib\")\n",
    "best_model = load(\"best_model.joblib\")"
   ]
  },
  {
   "cell_type": "markdown",
   "metadata": {},
   "source": [
    "## Conclusiones finales"
   ]
  },
  {
   "cell_type": "markdown",
   "metadata": {},
   "source": [
    "Para clasificar tweets se necesitan muchas técnicas de procesamientos de lenguaje y es algo bastante complejo, porque el idioma y la forma de comunicarnos es compleja.<br>\n",
    "Realizando un modelo para poder predecir los sentimientos de un tweet, es decir, si es un sentimiento positivo o negativo, llegué a la conclusión que el mejor modelo para este cometido es GradientBoost que logra una precisión en la clase 1 (positivos) de 0.73 y un accuracy de 0.65, lo que resulta ser un buen modelo a la hora de predecir nuevos datos.\n"
   ]
  },
  {
   "cell_type": "code",
   "execution_count": null,
   "metadata": {},
   "outputs": [],
   "source": []
  }
 ],
 "metadata": {
  "kernelspec": {
   "display_name": "Python 3",
   "language": "python",
   "name": "python3"
  },
  "language_info": {
   "codemirror_mode": {
    "name": "ipython",
    "version": 3
   },
   "file_extension": ".py",
   "mimetype": "text/x-python",
   "name": "python",
   "nbconvert_exporter": "python",
   "pygments_lexer": "ipython3",
   "version": "3.7.6"
  }
 },
 "nbformat": 4,
 "nbformat_minor": 4
}
